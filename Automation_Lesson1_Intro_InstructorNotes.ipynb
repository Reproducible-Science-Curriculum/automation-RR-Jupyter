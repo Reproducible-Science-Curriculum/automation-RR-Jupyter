{
 "cells": [
  {
   "cell_type": "markdown",
   "metadata": {
    "collapsed": false
   },
   "source": [
    "## Why automate your work flow, and how to approach the process\n",
    "\n",
    "**Questions for students to consider:**\n",
    "\n",
    "1) What happens when you get a new dataset that you need to analyze in the same way you analyzed a previous data set? \n",
    "\n",
    "2) What processes do you do often? How do you implement these? \n",
    "\n",
    "3) Do you have a clear workflow you could replicate?\n",
    "\n",
    "4) Or even better, could you plug this new data set into your old workflow? \n",
    "\n",
    "\n",
    "## Learning Objectives of Automation Module:\n",
    "\n",
    "### Lesson 1 (10-15min)\n",
    "- Employ best practices of naming a variable including: don’t use existing function names, avoid periods in names, don’t use numbers at the beginning of a variable name.\n",
    "\n",
    "### Lesson 2 (10-15min)\n",
    "- Define DRY and provide examples of how you would implement DRY in your code; Don’t repeat yourself!\n",
    "- Identify code that can be modularized following DRY and implement a modular workflow using functions.\n",
    "\n",
    "### Lesson 3 (60 min)\n",
    "- Know how to construct a function: variables, function name, syntax, documentation, return values\n",
    "- Demonstrate use of function within the notebook / code. \n",
    "- Construct and compose function documentation that clearly defines inputs, output variables and behaviour.\n",
    "\n",
    "### Lesson 4\n",
    "- Organize a set of functions within a python (.py) script and use it (import it into) in a Jupyter notebook.\n",
    "\n",
    "### Lesson 5\n",
    "- Use asserts to test validity of function inputs and outputs\n",
    "\n",
    "### Lesson 6\n",
    "- "
   ]
  },
  {
   "cell_type": "markdown",
   "metadata": {
    "collapsed": true
   },
   "source": [
    "## Basic Overview of the suggested workflow using Socrative\n",
    "- Use Socrative quiz to collect answers from student activities (students can run their code in their notebooks, and post to socrative). This will allow the instructor to see what solutions students came up with, and identify any places where misconceptions and confusion are coming up. Using Socrative quizes also allows for a record of the student work to be analyzed after class to see how students are learning and where they are having troubles.\n",
    "- sharing of prepared Socrative Quizes designed to be used with the automation module can be shared by URL links to each teacher so they do not have to be remade."
   ]
  },
  {
   "cell_type": "markdown",
   "metadata": {},
   "source": [
    "## Review of good variable practices\n",
    "**Learning Objective: ** Employ best practices of naming a variable including: don’t use existing function names, avoid periods in names, don’t use numbers at the beginning of a variable name\n",
    "\n",
    "##Types of variables:\n",
    "- strings, integers, etc..\n",
    "\n",
    "References:\n",
    "https://www.tutorialspoint.com/python3/python_variable_types.htm"
   ]
  },
  {
   "cell_type": "markdown",
   "metadata": {},
   "source": [
    "## Naming conventions that should be followed\n",
    "**Rules**\n"
   ]
  },
  {
   "cell_type": "code",
   "execution_count": 9,
   "metadata": {
    "collapsed": false
   },
   "outputs": [
    {
     "name": "stdout",
     "output_type": "stream",
     "text": [
      "2928.0\n",
      "AsiaAsia\n",
      "['Asia', 'Africa', 'Europe']\n"
     ]
    }
   ],
   "source": [
    "# write out three variables, assign a number, string, list \n",
    "x = 'Asia' # String\n",
    "y = 1952  # an integer\n",
    "z = 1.5 # a floating point number\n",
    "\n",
    "cal_1 = y * z\n",
    "print cal_1\n",
    "\n",
    "# or\n",
    "x, y = 'Asia', 'Africa'\n",
    "w = x\n",
    "w = x + x #concatinating strings (combinging strings)\n",
    "print w\n",
    "\n",
    "h = 'Africa'\n",
    "\n",
    "list_1 = ['Asia', 'Africa', 'Europe'] # list\n",
    "print list_1"
   ]
  },
  {
   "cell_type": "code",
   "execution_count": null,
   "metadata": {
    "collapsed": true
   },
   "outputs": [],
   "source": [
    "# Questions for students:\n",
    "# 1) what do you think will happen with this code? x * z\n",
    "# 2) what do you think will happen with this code? list_1[0]\n",
    "# 3) what do you think will happen with this code? list_1[1:2]"
   ]
  },
  {
   "cell_type": "markdown",
   "metadata": {},
   "source": [
    "## Indexing\n",
    "Python indexing is from 0 to length of list - 1\n",
    "\n",
    "**Example:** \n",
    "\n",
    "list_1 = ['Asia', 'Africa', 'Europe']\n",
    "\n",
    "Asia index = 0, \n",
    "Africa index = 1,  \n",
    "Europe index = 2"
   ]
  },
  {
   "cell_type": "code",
   "execution_count": null,
   "metadata": {
    "collapsed": true
   },
   "outputs": [],
   "source": [
    "list_1 # this is not a very descriptive and identifiable variable\n",
    "countries = ['Asia', 'Africa', 'Europe'] "
   ]
  },
  {
   "cell_type": "markdown",
   "metadata": {},
   "source": [
    "## Scope of variables\n",
    "global vs. local in functions\n",
    "\n",
    "###  Global variables \n",
    "Global variables are available in the environment your script is working in. Every variable we have made at this point is a global variable.\n",
    "\n",
    "###  Local variables \n",
    "Local variables will be useful to understand when we start using functions in the automation of our code. Local variables only exist in the function environment, not the global environment your linear workflow code is. "
   ]
  },
  {
   "cell_type": "markdown",
   "metadata": {},
   "source": [
    "## Other useful conventions with variables to follow\n",
    "1) set-up variables at the begining of your page, after importing libraries\n",
    "2) use variables instead of file names, or exact values or strings so that if you need to change the value of something you don't have to search through all your code to make sure you made the change everywhere, simply change the value of the variable at the top. -- This will also make your code more reproducible in the end. "
   ]
  },
  {
   "cell_type": "code",
   "execution_count": null,
   "metadata": {
    "collapsed": true
   },
   "outputs": [],
   "source": []
  },
  {
   "cell_type": "code",
   "execution_count": null,
   "metadata": {
    "collapsed": true
   },
   "outputs": [],
   "source": []
  },
  {
   "cell_type": "code",
   "execution_count": null,
   "metadata": {
    "collapsed": true
   },
   "outputs": [],
   "source": []
  },
  {
   "cell_type": "code",
   "execution_count": null,
   "metadata": {
    "collapsed": true
   },
   "outputs": [],
   "source": []
  },
  {
   "cell_type": "code",
   "execution_count": null,
   "metadata": {
    "collapsed": true
   },
   "outputs": [],
   "source": []
  },
  {
   "cell_type": "code",
   "execution_count": null,
   "metadata": {
    "collapsed": true
   },
   "outputs": [],
   "source": []
  }
 ],
 "metadata": {
  "anaconda-cloud": {},
  "kernelspec": {
   "display_name": "Python [default]",
   "language": "python",
   "name": "python2"
  },
  "language_info": {
   "codemirror_mode": {
    "name": "ipython",
    "version": 2
   },
   "file_extension": ".py",
   "mimetype": "text/x-python",
   "name": "python",
   "nbconvert_exporter": "python",
   "pygments_lexer": "ipython2",
   "version": "2.7.12"
  }
 },
 "nbformat": 4,
 "nbformat_minor": 1
}
