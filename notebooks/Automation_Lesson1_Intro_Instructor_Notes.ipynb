{
 "cells": [
  {
   "cell_type": "markdown",
   "metadata": {},
   "source": [
    "## Why automate your work flow, and how to approach the process"
   ]
  },
  {
   "cell_type": "markdown",
   "metadata": {},
   "source": [
    "**Questions for students to consider:**\n",
    "\n",
    "1) In the data exploration section you made some plots from your data. What if you want to look at other relationships? \n",
    "\n",
    "2) Are there computational processes you do often? How do you implement these? \n",
    "\n",
    "3) Do you have a clear workflow you could replicate from data to conclusions?\n",
    "\n",
    "4) Could you plug this new data set into your old workflow? "
   ]
  },
  {
   "cell_type": "markdown",
   "metadata": {},
   "source": [
    "## Level of Python / Jupyter Automation"
   ]
  },
  {
   "cell_type": "markdown",
   "metadata": {},
   "source": [
    "1. __Good__ - Documenting all analysis steps in enough details that will enable them to be reproduced successfully.\n",
    "2. __Better__ - Script your analysis\n",
    "3. __Best__ - Script your analysis and write tests to validate each step."
   ]
  },
  {
   "cell_type": "markdown",
   "metadata": {},
   "source": [
    "### Key takehomes\n",
    "    - Code is read much more often that it is written\n",
    "    - You are NEVER finshed with an analysis (drafts, reviewer comments, new data etc.) \n",
    "         Make your own future life easy!\n",
    "    - Repeating yourself creates opportunity for mistakes/divergence"
   ]
  },
  {
   "cell_type": "markdown",
   "metadata": {},
   "source": [
    "## Learning Objectives of Automation Module: (total time, 3 hrs including 15 min break)"
   ]
  },
  {
   "cell_type": "markdown",
   "metadata": {},
   "source": [
    "### [Lesson 1](#lesson-1) \n",
    "- Employ best practices of naming a variable including: don’t use existing function names, avoid periods in names, don’t use numbers at the beginning of a variable name.\n",
    "- Defensive programming: catch errors instead of just fixing them.\n",
    "\n",
    "### [Lesson 2](#lesson-2) \n",
    "- Define \"Don't Repeat Yourself\" (DRY) and provide examples of how you would implement DRY in your code\n",
    "- Identify code that can be modularized following DRY and implement a modular workflow using functions.\n",
    "\n",
    "### [Lesson 3](#lesson-3) \n",
    "- Know how to construct a function: variables, function name, syntax, documentation, return values\n",
    "- Demonstrate use of function within the notebook / code. \n",
    "- Construct and compose function documentation that clearly defines inputs, output variables and behaviour.\n",
    "\n"
   ]
  },
  {
   "cell_type": "markdown",
   "metadata": {},
   "source": [
    "__Basic Overview of the suggested workflow using Socrative (Optional)__"
   ]
  },
  {
   "cell_type": "markdown",
   "metadata": {
    "collapsed": true
   },
   "source": [
    "- Use Socrative quiz to collect answers from student activities (students can run their code in their notebooks, and post to socrative). This will allow the instructor to see what solutions students came up with, and identify any places where misconceptions and confusion are coming up. Using Socrative quizes also allows for a record of the student work to be analyzed after class to see how students are learning and where they are having troubles.\n",
    "- sharing of prepared Socrative Quizes designed to be used with the automation module can be shared by URL links to each teacher so they do not have to be remade."
   ]
  },
  {
   "cell_type": "markdown",
   "metadata": {},
   "source": [
    "---"
   ]
  },
  {
   "cell_type": "markdown",
   "metadata": {},
   "source": [
    "### Setup"
   ]
  },
  {
   "cell_type": "markdown",
   "metadata": {},
   "source": [
    "__Please download the cleaned data file:__\n",
    "\n",
    "https://raw.githubusercontent.com/Reproducible-Science-Curriculum/automation-RR-Jupyter/gh-pages/notebooks/gapminder_cleaned.csv\n",
    "\n",
    "---"
   ]
  },
  {
   "cell_type": "markdown",
   "metadata": {},
   "source": [
    "# Lesson 1 <a id=\"lesson-1\"></a>\n",
    "---"
   ]
  },
  {
   "cell_type": "markdown",
   "metadata": {},
   "source": [
    "Lets begin by creating a new Jupyter notebook.\n",
    "\n",
    "__Question:__ \n",
    "\n",
    "- Accounding to the organization we setup where should we put this notebook?"
   ]
  },
  {
   "cell_type": "markdown",
   "metadata": {},
   "source": [
    "## Review of good variable practices\n",
    "**Learning Objective: ** Employ best practices of naming a variable including: don’t use existing function names, avoid periods in names, don’t use numbers at the beginning of a variable name\n",
    "\n",
    "### Types of variables:\n",
    "- strings, integers, etc..\n",
    "\n",
    "References:\n",
    "- PEP8 - Style Guide for Python Code  - https://www.python.org/dev/peps/pep-0008/ \n",
    "- https://www.tutorialspoint.com/python3/python_variable_types.htm\n",
    "\n",
    "### Keep in mind that code is read many more times then it is written!"
   ]
  },
  {
   "cell_type": "markdown",
   "metadata": {},
   "source": [
    "## Other useful conventions with variables to follow\n",
    "1. Set-up variables at the begining of your page, after importing libraries\n",
    "2. use variables instead of file names, or exact values or strings so that if you need to change the value of something you don't have to search through all your code to make sure you made the change everywhere, simply change the value of the variable at the top. -- This will also make your code more reproducible in the end. "
   ]
  },
  {
   "cell_type": "markdown",
   "metadata": {},
   "source": [
    "## Let's Get Started"
   ]
  },
  {
   "cell_type": "markdown",
   "metadata": {},
   "source": [
    "To get started we will import the python modules that we will use in the session. These modules are developed by programmers and made available as open source packages for python. We would normally have to install each of these ourself but they are included as part of the [Anaconda Python Distribution](https://www.continuum.io/downloads).\n",
    "\n",
    "The _%matplotlib inline_ statement is part of the Jupyter and IPython magic that enables plaots generated by the matplotlib package to be discplayed as output in the Jupyter Notebook instead of open in a separate window."
   ]
  },
  {
   "cell_type": "code",
   "execution_count": 1,
   "metadata": {},
   "outputs": [],
   "source": [
    "import numpy as np\n",
    "import pandas as pd\n",
    "import pylab as plt\n",
    "import matplotlib\n",
    "\n",
    "%matplotlib inline"
   ]
  },
  {
   "cell_type": "markdown",
   "metadata": {},
   "source": [
    "We will continue where the _data exploration_ module left off but importing the cleaned gapminder dataset and setting it equal to a new varaible named __df__ to denote that we have imported a _pandas_ dataframe.\n",
    "\n",
    "As validation that we have imported the data we will also look at the top five rows of data using the _head_ method of pandas."
   ]
  },
  {
   "cell_type": "markdown",
   "metadata": {},
   "source": [
    "# Defensive programming"
   ]
  },
  {
   "cell_type": "code",
   "execution_count": 2,
   "metadata": {},
   "outputs": [
    {
     "ename": "FileNotFoundError",
     "evalue": "File b'data/gapminder_cleaned.csv' does not exist",
     "output_type": "error",
     "traceback": [
      "\u001b[0;31m---------------------------------------------------------------------------\u001b[0m",
      "\u001b[0;31mFileNotFoundError\u001b[0m                         Traceback (most recent call last)",
      "\u001b[0;32m<ipython-input-2-bdd8684bfb1c>\u001b[0m in \u001b[0;36m<module>\u001b[0;34m()\u001b[0m\n\u001b[1;32m      1\u001b[0m \u001b[0mcleaned_data_location\u001b[0m \u001b[0;34m=\u001b[0m \u001b[0;34m'data/gapminder_cleaned.csv'\u001b[0m\u001b[0;34m\u001b[0m\u001b[0m\n\u001b[0;32m----> 2\u001b[0;31m \u001b[0mdf\u001b[0m \u001b[0;34m=\u001b[0m \u001b[0mpd\u001b[0m\u001b[0;34m.\u001b[0m\u001b[0mread_csv\u001b[0m\u001b[0;34m(\u001b[0m\u001b[0mcleaned_data_location\u001b[0m\u001b[0;34m)\u001b[0m\u001b[0;34m\u001b[0m\u001b[0m\n\u001b[0m\u001b[1;32m      3\u001b[0m \u001b[0mdf\u001b[0m\u001b[0;34m.\u001b[0m\u001b[0mhead\u001b[0m\u001b[0;34m(\u001b[0m\u001b[0;34m)\u001b[0m\u001b[0;34m\u001b[0m\u001b[0m\n",
      "\u001b[0;32m~/Desktop/carpentries/venv-jupyter/lib/python3.5/site-packages/pandas/io/parsers.py\u001b[0m in \u001b[0;36mparser_f\u001b[0;34m(filepath_or_buffer, sep, delimiter, header, names, index_col, usecols, squeeze, prefix, mangle_dupe_cols, dtype, engine, converters, true_values, false_values, skipinitialspace, skiprows, nrows, na_values, keep_default_na, na_filter, verbose, skip_blank_lines, parse_dates, infer_datetime_format, keep_date_col, date_parser, dayfirst, iterator, chunksize, compression, thousands, decimal, lineterminator, quotechar, quoting, escapechar, comment, encoding, dialect, tupleize_cols, error_bad_lines, warn_bad_lines, skipfooter, skip_footer, doublequote, delim_whitespace, as_recarray, compact_ints, use_unsigned, low_memory, buffer_lines, memory_map, float_precision)\u001b[0m\n\u001b[1;32m    707\u001b[0m                     skip_blank_lines=skip_blank_lines)\n\u001b[1;32m    708\u001b[0m \u001b[0;34m\u001b[0m\u001b[0m\n\u001b[0;32m--> 709\u001b[0;31m         \u001b[0;32mreturn\u001b[0m \u001b[0m_read\u001b[0m\u001b[0;34m(\u001b[0m\u001b[0mfilepath_or_buffer\u001b[0m\u001b[0;34m,\u001b[0m \u001b[0mkwds\u001b[0m\u001b[0;34m)\u001b[0m\u001b[0;34m\u001b[0m\u001b[0m\n\u001b[0m\u001b[1;32m    710\u001b[0m \u001b[0;34m\u001b[0m\u001b[0m\n\u001b[1;32m    711\u001b[0m     \u001b[0mparser_f\u001b[0m\u001b[0;34m.\u001b[0m\u001b[0m__name__\u001b[0m \u001b[0;34m=\u001b[0m \u001b[0mname\u001b[0m\u001b[0;34m\u001b[0m\u001b[0m\n",
      "\u001b[0;32m~/Desktop/carpentries/venv-jupyter/lib/python3.5/site-packages/pandas/io/parsers.py\u001b[0m in \u001b[0;36m_read\u001b[0;34m(filepath_or_buffer, kwds)\u001b[0m\n\u001b[1;32m    447\u001b[0m \u001b[0;34m\u001b[0m\u001b[0m\n\u001b[1;32m    448\u001b[0m     \u001b[0;31m# Create the parser.\u001b[0m\u001b[0;34m\u001b[0m\u001b[0;34m\u001b[0m\u001b[0m\n\u001b[0;32m--> 449\u001b[0;31m     \u001b[0mparser\u001b[0m \u001b[0;34m=\u001b[0m \u001b[0mTextFileReader\u001b[0m\u001b[0;34m(\u001b[0m\u001b[0mfilepath_or_buffer\u001b[0m\u001b[0;34m,\u001b[0m \u001b[0;34m**\u001b[0m\u001b[0mkwds\u001b[0m\u001b[0;34m)\u001b[0m\u001b[0;34m\u001b[0m\u001b[0m\n\u001b[0m\u001b[1;32m    450\u001b[0m \u001b[0;34m\u001b[0m\u001b[0m\n\u001b[1;32m    451\u001b[0m     \u001b[0;32mif\u001b[0m \u001b[0mchunksize\u001b[0m \u001b[0;32mor\u001b[0m \u001b[0miterator\u001b[0m\u001b[0;34m:\u001b[0m\u001b[0;34m\u001b[0m\u001b[0m\n",
      "\u001b[0;32m~/Desktop/carpentries/venv-jupyter/lib/python3.5/site-packages/pandas/io/parsers.py\u001b[0m in \u001b[0;36m__init__\u001b[0;34m(self, f, engine, **kwds)\u001b[0m\n\u001b[1;32m    816\u001b[0m             \u001b[0mself\u001b[0m\u001b[0;34m.\u001b[0m\u001b[0moptions\u001b[0m\u001b[0;34m[\u001b[0m\u001b[0;34m'has_index_names'\u001b[0m\u001b[0;34m]\u001b[0m \u001b[0;34m=\u001b[0m \u001b[0mkwds\u001b[0m\u001b[0;34m[\u001b[0m\u001b[0;34m'has_index_names'\u001b[0m\u001b[0;34m]\u001b[0m\u001b[0;34m\u001b[0m\u001b[0m\n\u001b[1;32m    817\u001b[0m \u001b[0;34m\u001b[0m\u001b[0m\n\u001b[0;32m--> 818\u001b[0;31m         \u001b[0mself\u001b[0m\u001b[0;34m.\u001b[0m\u001b[0m_make_engine\u001b[0m\u001b[0;34m(\u001b[0m\u001b[0mself\u001b[0m\u001b[0;34m.\u001b[0m\u001b[0mengine\u001b[0m\u001b[0;34m)\u001b[0m\u001b[0;34m\u001b[0m\u001b[0m\n\u001b[0m\u001b[1;32m    819\u001b[0m \u001b[0;34m\u001b[0m\u001b[0m\n\u001b[1;32m    820\u001b[0m     \u001b[0;32mdef\u001b[0m \u001b[0mclose\u001b[0m\u001b[0;34m(\u001b[0m\u001b[0mself\u001b[0m\u001b[0;34m)\u001b[0m\u001b[0;34m:\u001b[0m\u001b[0;34m\u001b[0m\u001b[0m\n",
      "\u001b[0;32m~/Desktop/carpentries/venv-jupyter/lib/python3.5/site-packages/pandas/io/parsers.py\u001b[0m in \u001b[0;36m_make_engine\u001b[0;34m(self, engine)\u001b[0m\n\u001b[1;32m   1047\u001b[0m     \u001b[0;32mdef\u001b[0m \u001b[0m_make_engine\u001b[0m\u001b[0;34m(\u001b[0m\u001b[0mself\u001b[0m\u001b[0;34m,\u001b[0m \u001b[0mengine\u001b[0m\u001b[0;34m=\u001b[0m\u001b[0;34m'c'\u001b[0m\u001b[0;34m)\u001b[0m\u001b[0;34m:\u001b[0m\u001b[0;34m\u001b[0m\u001b[0m\n\u001b[1;32m   1048\u001b[0m         \u001b[0;32mif\u001b[0m \u001b[0mengine\u001b[0m \u001b[0;34m==\u001b[0m \u001b[0;34m'c'\u001b[0m\u001b[0;34m:\u001b[0m\u001b[0;34m\u001b[0m\u001b[0m\n\u001b[0;32m-> 1049\u001b[0;31m             \u001b[0mself\u001b[0m\u001b[0;34m.\u001b[0m\u001b[0m_engine\u001b[0m \u001b[0;34m=\u001b[0m \u001b[0mCParserWrapper\u001b[0m\u001b[0;34m(\u001b[0m\u001b[0mself\u001b[0m\u001b[0;34m.\u001b[0m\u001b[0mf\u001b[0m\u001b[0;34m,\u001b[0m \u001b[0;34m**\u001b[0m\u001b[0mself\u001b[0m\u001b[0;34m.\u001b[0m\u001b[0moptions\u001b[0m\u001b[0;34m)\u001b[0m\u001b[0;34m\u001b[0m\u001b[0m\n\u001b[0m\u001b[1;32m   1050\u001b[0m         \u001b[0;32melse\u001b[0m\u001b[0;34m:\u001b[0m\u001b[0;34m\u001b[0m\u001b[0m\n\u001b[1;32m   1051\u001b[0m             \u001b[0;32mif\u001b[0m \u001b[0mengine\u001b[0m \u001b[0;34m==\u001b[0m \u001b[0;34m'python'\u001b[0m\u001b[0;34m:\u001b[0m\u001b[0;34m\u001b[0m\u001b[0m\n",
      "\u001b[0;32m~/Desktop/carpentries/venv-jupyter/lib/python3.5/site-packages/pandas/io/parsers.py\u001b[0m in \u001b[0;36m__init__\u001b[0;34m(self, src, **kwds)\u001b[0m\n\u001b[1;32m   1693\u001b[0m         \u001b[0mkwds\u001b[0m\u001b[0;34m[\u001b[0m\u001b[0;34m'allow_leading_cols'\u001b[0m\u001b[0;34m]\u001b[0m \u001b[0;34m=\u001b[0m \u001b[0mself\u001b[0m\u001b[0;34m.\u001b[0m\u001b[0mindex_col\u001b[0m \u001b[0;32mis\u001b[0m \u001b[0;32mnot\u001b[0m \u001b[0;32mFalse\u001b[0m\u001b[0;34m\u001b[0m\u001b[0m\n\u001b[1;32m   1694\u001b[0m \u001b[0;34m\u001b[0m\u001b[0m\n\u001b[0;32m-> 1695\u001b[0;31m         \u001b[0mself\u001b[0m\u001b[0;34m.\u001b[0m\u001b[0m_reader\u001b[0m \u001b[0;34m=\u001b[0m \u001b[0mparsers\u001b[0m\u001b[0;34m.\u001b[0m\u001b[0mTextReader\u001b[0m\u001b[0;34m(\u001b[0m\u001b[0msrc\u001b[0m\u001b[0;34m,\u001b[0m \u001b[0;34m**\u001b[0m\u001b[0mkwds\u001b[0m\u001b[0;34m)\u001b[0m\u001b[0;34m\u001b[0m\u001b[0m\n\u001b[0m\u001b[1;32m   1696\u001b[0m \u001b[0;34m\u001b[0m\u001b[0m\n\u001b[1;32m   1697\u001b[0m         \u001b[0;31m# XXX\u001b[0m\u001b[0;34m\u001b[0m\u001b[0;34m\u001b[0m\u001b[0m\n",
      "\u001b[0;32mpandas/_libs/parsers.pyx\u001b[0m in \u001b[0;36mpandas._libs.parsers.TextReader.__cinit__\u001b[0;34m()\u001b[0m\n",
      "\u001b[0;32mpandas/_libs/parsers.pyx\u001b[0m in \u001b[0;36mpandas._libs.parsers.TextReader._setup_parser_source\u001b[0;34m()\u001b[0m\n",
      "\u001b[0;31mFileNotFoundError\u001b[0m: File b'data/gapminder_cleaned.csv' does not exist"
     ]
    }
   ],
   "source": [
    "cleaned_data_location = 'data/gapminder_cleaned.csv'\n",
    "df = pd.read_csv(cleaned_data_location)\n",
    "df.head()"
   ]
  },
  {
   "cell_type": "markdown",
   "metadata": {},
   "source": [
    "## Whooops! That doesn't look great. and we know that the file *does* exist. We just downloaded it!\n",
    "Lets do some defensive programming to prevent things from breaking"
   ]
  },
  {
   "cell_type": "markdown",
   "metadata": {},
   "source": [
    "Your most common collaborator is YOU, in the future. Including error handling and messages help your colleagues and students, but most importantly, YOU.\n"
   ]
  },
  {
   "cell_type": "markdown",
   "metadata": {},
   "source": [
    "## Catching errors using try-except\n",
    "try and except statements are  a good way to catch and deal with errors in a convenient way"
   ]
  },
  {
   "cell_type": "code",
   "execution_count": 3,
   "metadata": {},
   "outputs": [
    {
     "name": "stdout",
     "output_type": "stream",
     "text": [
      "Couldn't find data file, check path? You tried data/gapminder_cleaned.csv\n"
     ]
    }
   ],
   "source": [
    "cleaned_data_location = 'data/gapminder_cleaned.csv'\n",
    "try:\n",
    "        df = pd.read_csv(cleaned_data_location)\n",
    "except FileNotFoundError:\n",
    "        print(\"Couldn't find data file, check path? You tried\", cleaned_data_location)"
   ]
  },
  {
   "cell_type": "markdown",
   "metadata": {},
   "source": [
    "## Exercise: what do you need to fix to actually open that data file?"
   ]
  },
  {
   "cell_type": "code",
   "execution_count": 4,
   "metadata": {},
   "outputs": [],
   "source": [
    "cleaned_data_location = '../data/gapminder_cleaned.csv'\n",
    "try:\n",
    "        df = pd.read_csv(cleaned_data_location)\n",
    "except FileNotFoundError:\n",
    "        print(\"Couldn't find data file, check path? You tried\", cleaned_data_location)"
   ]
  },
  {
   "cell_type": "markdown",
   "metadata": {},
   "source": [
    "We can set a flag at the top of our script to dynamically set how much infomation we want to see.\n",
    "e.g. VERBOSE.\n",
    "\n",
    "When the variable is set to 1 (equivalent to YES) we print out extra information."
   ]
  },
  {
   "cell_type": "code",
   "execution_count": 5,
   "metadata": {},
   "outputs": [
    {
     "name": "stdout",
     "output_type": "stream",
     "text": [
      "   year       pop  lifeexp   gdppercap      country continent\n",
      "0  1952   8425333   28.801  779.445314  afghanistan      asia\n",
      "1  1957   9240934   30.332  820.853030  afghanistan      asia\n",
      "2  1962  10267083   31.997  853.100710  afghanistan      asia\n",
      "3  1967  11537966   34.020  836.197138  afghanistan      asia\n",
      "4  1972  13079460   36.088  739.981106  afghanistan      asia\n"
     ]
    }
   ],
   "source": [
    "VERBOSE = 1\n",
    "try:\n",
    "        df = pd.read_csv(cleaned_data_location)\n",
    "        if VERBOSE:\n",
    "            print(df.head())\n",
    "except FileNotFoundError:\n",
    "        print(\"Couldn't find data file, check path? You tried\", cleaned_data_location)\n"
   ]
  },
  {
   "cell_type": "markdown",
   "metadata": {},
   "source": [
    "# using assert statements to be explicit about assumptions\n",
    "assert will fail if statement isn't true. Nothing will happen if it is true"
   ]
  },
  {
   "cell_type": "code",
   "execution_count": 6,
   "metadata": {},
   "outputs": [],
   "source": [
    "years = df['year'].unique()\n",
    "years.sort()\n",
    "assert years[-1]==2007 #Check that the most recent year is as expected\n"
   ]
  },
  {
   "cell_type": "markdown",
   "metadata": {
    "collapsed": true
   },
   "source": [
    "# Lesson 2 <a id=\"lesson-2\"></a>\n",
    "---"
   ]
  },
  {
   "cell_type": "markdown",
   "metadata": {
    "collapsed": true
   },
   "source": [
    "__Learning Objectives__\n",
    "- Define \"Don't Repeat Yourself\" (DRY) and provide examples of how you would implement DRY in your code\n",
    "- Identify code that can be modularized following DRY and implement a modular workflow using functions."
   ]
  },
  {
   "cell_type": "markdown",
   "metadata": {
    "collapsed": true
   },
   "source": [
    "As you write software there comes a time when you are going to encounter a situation where you want to do the same analysis step as you have already done in your analysis. Our natural tendancy is the copy the code that we wrote and paste it into teh new location for reuse.  Sounds easy, right. Copy, paste, move on...not so fast.\n",
    "\n",
    "What happens if there is a problem with the code or you decide to tweak it, just a little, to change a format or enahce it?\n",
    "\n",
    "You wil have to change the code in every place you ahve copied it. How do you know if you got _all_ of the copies? What happens if one of the copies is _not_ changed?\n",
    "\n",
    "These examples illustrate the principle of \"Don't Repeat Yourself\". We are going to look at how to __refactor__ our code and pull pieces out by making them functions. They we will __call__ the function everytime we want to use that code."
   ]
  },
  {
   "cell_type": "markdown",
   "metadata": {},
   "source": [
    "# What if we want to ask questions about variables over time?\n",
    "## Lets start with mean life expectancy in Asia"
   ]
  },
  {
   "cell_type": "code",
   "execution_count": 7,
   "metadata": {},
   "outputs": [],
   "source": [
    "#decide on a year, and calculate the statistic of interest\n",
    "## do it point by point!! DON'T RUSH\n",
    "\n",
    "mask_asia = df['continent'] == 'asia'\n",
    "df_asia = df[mask_asia]\n",
    "\n",
    "mask_1952 = df_asia['year'] == 1952\n",
    "df_1952 = df_asia[mask_1952]\n",
    "\n",
    "value = np.mean(df_1952['lifeexp'])\n",
    "\n",
    "# create an empty list\n",
    "result = []\n",
    "# append a row to list with a tuple containing your result\n",
    "result.append(('asia', '1952', value))\n",
    "    \n",
    "# Turn the summary into a dataframe so that we can visualize easily\n",
    "result = pd.DataFrame(result, columns=['continent', 'year', 'lifeexp'])\n"
   ]
  },
  {
   "cell_type": "code",
   "execution_count": 8,
   "metadata": {},
   "outputs": [
    {
     "data": {
      "text/html": [
       "<div>\n",
       "<style scoped>\n",
       "    .dataframe tbody tr th:only-of-type {\n",
       "        vertical-align: middle;\n",
       "    }\n",
       "\n",
       "    .dataframe tbody tr th {\n",
       "        vertical-align: top;\n",
       "    }\n",
       "\n",
       "    .dataframe thead th {\n",
       "        text-align: right;\n",
       "    }\n",
       "</style>\n",
       "<table border=\"1\" class=\"dataframe\">\n",
       "  <thead>\n",
       "    <tr style=\"text-align: right;\">\n",
       "      <th></th>\n",
       "      <th>continent</th>\n",
       "      <th>year</th>\n",
       "      <th>lifeexp</th>\n",
       "    </tr>\n",
       "  </thead>\n",
       "  <tbody>\n",
       "    <tr>\n",
       "      <th>0</th>\n",
       "      <td>asia</td>\n",
       "      <td>1952</td>\n",
       "      <td>46.314394</td>\n",
       "    </tr>\n",
       "  </tbody>\n",
       "</table>\n",
       "</div>"
      ],
      "text/plain": [
       "  continent  year    lifeexp\n",
       "0      asia  1952  46.314394"
      ]
     },
     "execution_count": 8,
     "metadata": {},
     "output_type": "execute_result"
    }
   ],
   "source": [
    "result"
   ]
  },
  {
   "cell_type": "code",
   "execution_count": 9,
   "metadata": {},
   "outputs": [],
   "source": [
    "# Use a for loop to Loop through years and calculate the statistic of interest\n",
    "\n",
    "mask_asia = df['continent'] == 'asia'\n",
    "df_asia = df[mask_asia]\n",
    "\n",
    "years = df_asia['year'].unique()\n",
    "summary = []\n",
    "\n",
    "for year in years:\n",
    "    mask_year = df_asia['year'] == year\n",
    "    df_year = df_asia[mask_year]\n",
    "    value = np.mean(df_year['lifeexp'])\n",
    "    summary.append(('asia', year, value))\n",
    "    \n",
    "# Turn the summary into a dataframe so that we can visualize easily\n",
    "summary = pd.DataFrame(summary, columns=['continent', 'year', 'lifeexp'])"
   ]
  },
  {
   "cell_type": "code",
   "execution_count": 10,
   "metadata": {},
   "outputs": [
    {
     "data": {
      "text/html": [
       "<div>\n",
       "<style scoped>\n",
       "    .dataframe tbody tr th:only-of-type {\n",
       "        vertical-align: middle;\n",
       "    }\n",
       "\n",
       "    .dataframe tbody tr th {\n",
       "        vertical-align: top;\n",
       "    }\n",
       "\n",
       "    .dataframe thead th {\n",
       "        text-align: right;\n",
       "    }\n",
       "</style>\n",
       "<table border=\"1\" class=\"dataframe\">\n",
       "  <thead>\n",
       "    <tr style=\"text-align: right;\">\n",
       "      <th></th>\n",
       "      <th>continent</th>\n",
       "      <th>year</th>\n",
       "      <th>lifeexp</th>\n",
       "    </tr>\n",
       "  </thead>\n",
       "  <tbody>\n",
       "    <tr>\n",
       "      <th>0</th>\n",
       "      <td>asia</td>\n",
       "      <td>1952</td>\n",
       "      <td>46.314394</td>\n",
       "    </tr>\n",
       "    <tr>\n",
       "      <th>1</th>\n",
       "      <td>asia</td>\n",
       "      <td>1957</td>\n",
       "      <td>49.318544</td>\n",
       "    </tr>\n",
       "    <tr>\n",
       "      <th>2</th>\n",
       "      <td>asia</td>\n",
       "      <td>1962</td>\n",
       "      <td>51.563223</td>\n",
       "    </tr>\n",
       "    <tr>\n",
       "      <th>3</th>\n",
       "      <td>asia</td>\n",
       "      <td>1967</td>\n",
       "      <td>54.663640</td>\n",
       "    </tr>\n",
       "    <tr>\n",
       "      <th>4</th>\n",
       "      <td>asia</td>\n",
       "      <td>1972</td>\n",
       "      <td>57.319269</td>\n",
       "    </tr>\n",
       "    <tr>\n",
       "      <th>5</th>\n",
       "      <td>asia</td>\n",
       "      <td>1977</td>\n",
       "      <td>59.610556</td>\n",
       "    </tr>\n",
       "    <tr>\n",
       "      <th>6</th>\n",
       "      <td>asia</td>\n",
       "      <td>1982</td>\n",
       "      <td>62.617939</td>\n",
       "    </tr>\n",
       "    <tr>\n",
       "      <th>7</th>\n",
       "      <td>asia</td>\n",
       "      <td>1987</td>\n",
       "      <td>64.851182</td>\n",
       "    </tr>\n",
       "    <tr>\n",
       "      <th>8</th>\n",
       "      <td>asia</td>\n",
       "      <td>1992</td>\n",
       "      <td>66.537212</td>\n",
       "    </tr>\n",
       "    <tr>\n",
       "      <th>9</th>\n",
       "      <td>asia</td>\n",
       "      <td>1997</td>\n",
       "      <td>68.020515</td>\n",
       "    </tr>\n",
       "    <tr>\n",
       "      <th>10</th>\n",
       "      <td>asia</td>\n",
       "      <td>2002</td>\n",
       "      <td>69.233879</td>\n",
       "    </tr>\n",
       "    <tr>\n",
       "      <th>11</th>\n",
       "      <td>asia</td>\n",
       "      <td>2007</td>\n",
       "      <td>70.728485</td>\n",
       "    </tr>\n",
       "  </tbody>\n",
       "</table>\n",
       "</div>"
      ],
      "text/plain": [
       "   continent  year    lifeexp\n",
       "0       asia  1952  46.314394\n",
       "1       asia  1957  49.318544\n",
       "2       asia  1962  51.563223\n",
       "3       asia  1967  54.663640\n",
       "4       asia  1972  57.319269\n",
       "5       asia  1977  59.610556\n",
       "6       asia  1982  62.617939\n",
       "7       asia  1987  64.851182\n",
       "8       asia  1992  66.537212\n",
       "9       asia  1997  68.020515\n",
       "10      asia  2002  69.233879\n",
       "11      asia  2007  70.728485"
      ]
     },
     "execution_count": 10,
     "metadata": {},
     "output_type": "execute_result"
    }
   ],
   "source": [
    "summary"
   ]
  },
  {
   "cell_type": "markdown",
   "metadata": {},
   "source": [
    "# But now your PI wants that information all the years for a different continent!"
   ]
  },
  {
   "cell_type": "markdown",
   "metadata": {},
   "source": [
    "## Activity: How could we use variables to make it easier to re-run this for differnet continents?"
   ]
  },
  {
   "cell_type": "code",
   "execution_count": 11,
   "metadata": {},
   "outputs": [],
   "source": [
    "# Define which continent / category we will use\n",
    "category = 'lifeexp'\n",
    "continent = 'asia'\n",
    "\n",
    "# Create a mask that selects the continent of choice\n",
    "mask_continent = df['continent'] == 'asia'\n",
    "df_continent = df[mask_continent]\n",
    "\n",
    "# Loop through years and calculate the statistic of interest\n",
    "years = df_continent['year'].unique()\n",
    "summary = []\n",
    "\n",
    "for year in years:\n",
    "    mask_year = df_continent['year'] == year\n",
    "    df_year = df_continent[mask_year]\n",
    "    value = np.mean(df_year[category])\n",
    "    summary.append((continent, year, value))\n",
    "    \n",
    "# Turn the summary into a dataframe so that we can visualize easily\n",
    "summary = pd.DataFrame(summary, columns=['continent', 'year', category])"
   ]
  },
  {
   "cell_type": "code",
   "execution_count": 12,
   "metadata": {},
   "outputs": [
    {
     "data": {
      "text/plain": [
       "<matplotlib.axes._subplots.AxesSubplot at 0x7ff54db4f4a8>"
      ]
     },
     "execution_count": 12,
     "metadata": {},
     "output_type": "execute_result"
    },
    {
     "data": {
      "image/png": "[encoded data removed]",
      "text/plain": [
       "<matplotlib.figure.Figure at 0x7ff54db5d6a0>"
      ]
     },
     "metadata": {},
     "output_type": "display_data"
    }
   ],
   "source": [
    "summary.plot.line('year', category, label = \"life expectancy\")"
   ]
  },
  {
   "cell_type": "markdown",
   "metadata": {},
   "source": [
    "# Lesson 3 <a id=\"lesson-3\"></a>\n",
    "## Building functions\n",
    "---"
   ]
  },
  {
   "cell_type": "markdown",
   "metadata": {},
   "source": [
    "__Learning Objectives__\n",
    "- Know how to construct a function: variables, function name, syntax, documentation, return values\n",
    "- Demonstrate use of function within the notebook / code.\n",
    "- Construct and compose function documentation that clearly defines inputs, output "
   ]
  },
  {
   "cell_type": "code",
   "execution_count": 13,
   "metadata": {},
   "outputs": [],
   "source": [
    "def calculate_mean_over_time(data, category, continent):\n",
    "    \n",
    "    # Create a mask that selects the continent of choice\n",
    "    mask_continent = data['continent'] == continent\n",
    "    data_continent = data[mask_continent]\n",
    "\n",
    "    # Loop through years and calculate the statistic of interest\n",
    "    years = data_continent['year'].unique()\n",
    "    summary = []\n",
    "    for year in years:\n",
    "        if VERBOSE:\n",
    "            print(year)\n",
    "        mask_year = data_continent['year'] == year\n",
    "        data_year = data_continent[mask_year]\n",
    "        value = np.mean(data_year[category])\n",
    "        summary.append((continent, year, value))\n",
    "\n",
    "    # Turn the summary into a dataframe so that we can visualize easily\n",
    "    summary = pd.DataFrame(summary, columns=['continent', 'year', category])\n",
    "    return summary"
   ]
  },
  {
   "cell_type": "code",
   "execution_count": 14,
   "metadata": {},
   "outputs": [
    {
     "data": {
      "text/html": [
       "<div>\n",
       "<style scoped>\n",
       "    .dataframe tbody tr th:only-of-type {\n",
       "        vertical-align: middle;\n",
       "    }\n",
       "\n",
       "    .dataframe tbody tr th {\n",
       "        vertical-align: top;\n",
       "    }\n",
       "\n",
       "    .dataframe thead th {\n",
       "        text-align: right;\n",
       "    }\n",
       "</style>\n",
       "<table border=\"1\" class=\"dataframe\">\n",
       "  <thead>\n",
       "    <tr style=\"text-align: right;\">\n",
       "      <th></th>\n",
       "      <th>continent</th>\n",
       "      <th>year</th>\n",
       "      <th>lifeexp</th>\n",
       "    </tr>\n",
       "  </thead>\n",
       "  <tbody>\n",
       "    <tr>\n",
       "      <th>0</th>\n",
       "      <td>asia</td>\n",
       "      <td>1952</td>\n",
       "      <td>46.314394</td>\n",
       "    </tr>\n",
       "    <tr>\n",
       "      <th>1</th>\n",
       "      <td>asia</td>\n",
       "      <td>1957</td>\n",
       "      <td>49.318544</td>\n",
       "    </tr>\n",
       "    <tr>\n",
       "      <th>2</th>\n",
       "      <td>asia</td>\n",
       "      <td>1962</td>\n",
       "      <td>51.563223</td>\n",
       "    </tr>\n",
       "    <tr>\n",
       "      <th>3</th>\n",
       "      <td>asia</td>\n",
       "      <td>1967</td>\n",
       "      <td>54.663640</td>\n",
       "    </tr>\n",
       "    <tr>\n",
       "      <th>4</th>\n",
       "      <td>asia</td>\n",
       "      <td>1972</td>\n",
       "      <td>57.319269</td>\n",
       "    </tr>\n",
       "    <tr>\n",
       "      <th>5</th>\n",
       "      <td>asia</td>\n",
       "      <td>1977</td>\n",
       "      <td>59.610556</td>\n",
       "    </tr>\n",
       "    <tr>\n",
       "      <th>6</th>\n",
       "      <td>asia</td>\n",
       "      <td>1982</td>\n",
       "      <td>62.617939</td>\n",
       "    </tr>\n",
       "    <tr>\n",
       "      <th>7</th>\n",
       "      <td>asia</td>\n",
       "      <td>1987</td>\n",
       "      <td>64.851182</td>\n",
       "    </tr>\n",
       "    <tr>\n",
       "      <th>8</th>\n",
       "      <td>asia</td>\n",
       "      <td>1992</td>\n",
       "      <td>66.537212</td>\n",
       "    </tr>\n",
       "    <tr>\n",
       "      <th>9</th>\n",
       "      <td>asia</td>\n",
       "      <td>1997</td>\n",
       "      <td>68.020515</td>\n",
       "    </tr>\n",
       "    <tr>\n",
       "      <th>10</th>\n",
       "      <td>asia</td>\n",
       "      <td>2002</td>\n",
       "      <td>69.233879</td>\n",
       "    </tr>\n",
       "    <tr>\n",
       "      <th>11</th>\n",
       "      <td>asia</td>\n",
       "      <td>2007</td>\n",
       "      <td>70.728485</td>\n",
       "    </tr>\n",
       "  </tbody>\n",
       "</table>\n",
       "</div>"
      ],
      "text/plain": [
       "   continent  year    lifeexp\n",
       "0       asia  1952  46.314394\n",
       "1       asia  1957  49.318544\n",
       "2       asia  1962  51.563223\n",
       "3       asia  1967  54.663640\n",
       "4       asia  1972  57.319269\n",
       "5       asia  1977  59.610556\n",
       "6       asia  1982  62.617939\n",
       "7       asia  1987  64.851182\n",
       "8       asia  1992  66.537212\n",
       "9       asia  1997  68.020515\n",
       "10      asia  2002  69.233879\n",
       "11      asia  2007  70.728485"
      ]
     },
     "execution_count": 14,
     "metadata": {},
     "output_type": "execute_result"
    }
   ],
   "source": [
    "VERBOSE = 0\n",
    "calculate_mean_over_time(df, \"lifeexp\", \"asia\")"
   ]
  },
  {
   "cell_type": "markdown",
   "metadata": {},
   "source": [
    "# Activity:\n",
    "    How would you make a function to calculate the median through time?\n",
    "    (Hint: focus on DRY.)"
   ]
  },
  {
   "cell_type": "code",
   "execution_count": 15,
   "metadata": {},
   "outputs": [],
   "source": [
    "def calculate_statistic_over_time(data, category, continent, func):\n",
    "    \n",
    "    # Create a mask that selects the continent of choice\n",
    "    mask_continent = data['continent'] == continent\n",
    "    data_continent = data[mask_continent]\n",
    "\n",
    "    # Loop through years and calculate the statistic of interest\n",
    "    years = data_continent['year'].unique()\n",
    "    summary = []\n",
    "    for year in years:\n",
    "        mask_year = data_continent['year'] == year\n",
    "        data_year = data_continent[mask_year]\n",
    "        value = func(data_year[category])\n",
    "        summary.append((continent, year, value))\n",
    "\n",
    "    # Turn the summary into a dataframe so that we can visualize easily\n",
    "    summary = pd.DataFrame(summary, columns=['continent', 'year', category])\n",
    "    return summary"
   ]
  },
  {
   "cell_type": "code",
   "execution_count": 16,
   "metadata": {},
   "outputs": [
    {
     "data": {
      "text/html": [
       "<div>\n",
       "<style scoped>\n",
       "    .dataframe tbody tr th:only-of-type {\n",
       "        vertical-align: middle;\n",
       "    }\n",
       "\n",
       "    .dataframe tbody tr th {\n",
       "        vertical-align: top;\n",
       "    }\n",
       "\n",
       "    .dataframe thead th {\n",
       "        text-align: right;\n",
       "    }\n",
       "</style>\n",
       "<table border=\"1\" class=\"dataframe\">\n",
       "  <thead>\n",
       "    <tr style=\"text-align: right;\">\n",
       "      <th></th>\n",
       "      <th>continent</th>\n",
       "      <th>year</th>\n",
       "      <th>lifeexp</th>\n",
       "    </tr>\n",
       "  </thead>\n",
       "  <tbody>\n",
       "    <tr>\n",
       "      <th>0</th>\n",
       "      <td>asia</td>\n",
       "      <td>1952</td>\n",
       "      <td>44.869</td>\n",
       "    </tr>\n",
       "    <tr>\n",
       "      <th>1</th>\n",
       "      <td>asia</td>\n",
       "      <td>1957</td>\n",
       "      <td>48.284</td>\n",
       "    </tr>\n",
       "    <tr>\n",
       "      <th>2</th>\n",
       "      <td>asia</td>\n",
       "      <td>1962</td>\n",
       "      <td>49.325</td>\n",
       "    </tr>\n",
       "    <tr>\n",
       "      <th>3</th>\n",
       "      <td>asia</td>\n",
       "      <td>1967</td>\n",
       "      <td>53.655</td>\n",
       "    </tr>\n",
       "    <tr>\n",
       "      <th>4</th>\n",
       "      <td>asia</td>\n",
       "      <td>1972</td>\n",
       "      <td>56.950</td>\n",
       "    </tr>\n",
       "    <tr>\n",
       "      <th>5</th>\n",
       "      <td>asia</td>\n",
       "      <td>1977</td>\n",
       "      <td>60.765</td>\n",
       "    </tr>\n",
       "    <tr>\n",
       "      <th>6</th>\n",
       "      <td>asia</td>\n",
       "      <td>1982</td>\n",
       "      <td>63.739</td>\n",
       "    </tr>\n",
       "    <tr>\n",
       "      <th>7</th>\n",
       "      <td>asia</td>\n",
       "      <td>1987</td>\n",
       "      <td>66.295</td>\n",
       "    </tr>\n",
       "    <tr>\n",
       "      <th>8</th>\n",
       "      <td>asia</td>\n",
       "      <td>1992</td>\n",
       "      <td>68.690</td>\n",
       "    </tr>\n",
       "    <tr>\n",
       "      <th>9</th>\n",
       "      <td>asia</td>\n",
       "      <td>1997</td>\n",
       "      <td>70.265</td>\n",
       "    </tr>\n",
       "    <tr>\n",
       "      <th>10</th>\n",
       "      <td>asia</td>\n",
       "      <td>2002</td>\n",
       "      <td>71.028</td>\n",
       "    </tr>\n",
       "    <tr>\n",
       "      <th>11</th>\n",
       "      <td>asia</td>\n",
       "      <td>2007</td>\n",
       "      <td>72.396</td>\n",
       "    </tr>\n",
       "  </tbody>\n",
       "</table>\n",
       "</div>"
      ],
      "text/plain": [
       "   continent  year  lifeexp\n",
       "0       asia  1952   44.869\n",
       "1       asia  1957   48.284\n",
       "2       asia  1962   49.325\n",
       "3       asia  1967   53.655\n",
       "4       asia  1972   56.950\n",
       "5       asia  1977   60.765\n",
       "6       asia  1982   63.739\n",
       "7       asia  1987   66.295\n",
       "8       asia  1992   68.690\n",
       "9       asia  1997   70.265\n",
       "10      asia  2002   71.028\n",
       "11      asia  2007   72.396"
      ]
     },
     "execution_count": 16,
     "metadata": {},
     "output_type": "execute_result"
    }
   ],
   "source": [
    "calculate_statistic_over_time(df, \"lifeexp\", \"asia\", np.median)"
   ]
  },
  {
   "cell_type": "markdown",
   "metadata": {},
   "source": [
    "Including docstrings with any functions is good programming practice, and helps out your collaborators (i.e., you!)\n",
    "\n",
    "More on docstrings: https://www.python.org/dev/peps/pep-0257/#what-is-a-docstring"
   ]
  },
  {
   "cell_type": "code",
   "execution_count": 17,
   "metadata": {},
   "outputs": [],
   "source": [
    "def calculate_statistic_over_time(data, category, continent, func):\n",
    "    \"\"\"calculate values of a statistic through time\n",
    "\n",
    "    Args:\n",
    "        data: a data frame\n",
    "        category: one of the column headers of the data frame (e.g. 'lifeexp')\n",
    "        continent: possible value of the continent column of that data frame (e.g. 'asia')\n",
    "        func: the funtion to apply to data values (e.g. np.mean)\n",
    "        \n",
    "    Returns:\n",
    "        a summary table of value per year.\n",
    "\n",
    "    \"\"\"\n",
    "    \n",
    "    # Create a mask that selects the continent of choice\n",
    "    mask_continent = data['continent'] == continent\n",
    "    data_continent = data[mask_continent]\n",
    "\n",
    "    # Loop through years and calculate the statistic of interest\n",
    "    years = data_continent['year'].unique()\n",
    "    summary = []\n",
    "    for year in years:\n",
    "        mask_year = data_continent['year'] == year\n",
    "        data_year = data_continent[mask_year]\n",
    "        value = func(data_year[category])\n",
    "        summary.append((continent, year, value))\n",
    "\n",
    "    # Turn the summary into a dataframe so that we can visualize easily\n",
    "    summary = pd.DataFrame(summary, columns=['continent', 'year', category])\n",
    "    return summary"
   ]
  },
  {
   "cell_type": "markdown",
   "metadata": {},
   "source": [
    "# Defensive programming activity\n",
    "How would you check to make sure input values are reasonable?\n",
    "Use assertions or try-except statements, and add options with the VERBOSE flag"
   ]
  },
  {
   "cell_type": "code",
   "execution_count": 22,
   "metadata": {},
   "outputs": [],
   "source": [
    "def calculate_statistic_over_time(data, category, continent, func, verbose=0):\n",
    "    \"\"\"calculate values of a statistic through time\n",
    "\n",
    "    Args:\n",
    "        data: a pandas data frame\n",
    "        category: one of the column headers of the data frame (e.g. 'lifeexp')\n",
    "        continent: possible value of the continent column of that data frame (e.g. 'asia')\n",
    "        func: the funtion to apply to data values (e.g. np.mean)\n",
    "        \n",
    "    Returns:\n",
    "        a summary table of value per year.\n",
    "\n",
    "    \"\"\"\n",
    "    \n",
    "    # Check values\n",
    "    assert category in data.columns.values\n",
    "    assert 'continent' in data.columns.values\n",
    "    assert continent in data['continent'].unique()\n",
    "    \n",
    "    # Create a mask that selects the continent of choice\n",
    "    mask_continent = data['continent'] == continent\n",
    "    data_continent = data[mask_continent]\n",
    "    \n",
    "    \n",
    "    # Loop through years and calculate the statistic of interest\n",
    "    years = data_continent['year'].unique()\n",
    "    if verbose:\n",
    "        print(\"years include\", years)\n",
    "    summary = []\n",
    "    for year in years:\n",
    "        mask_year = data_continent['year'] == year\n",
    "        data_year = data_continent[mask_year]\n",
    "        value = func(data_year[category])\n",
    "        summary.append((continent, year, value))\n",
    "\n",
    "    # Turn the summary into a dataframe so that we can visualize easily\n",
    "    summary = pd.DataFrame(summary, columns=['continent', 'year', category])\n",
    "    return summary"
   ]
  },
  {
   "cell_type": "code",
   "execution_count": 23,
   "metadata": {},
   "outputs": [
    {
     "data": {
      "text/html": [
       "<div>\n",
       "<style scoped>\n",
       "    .dataframe tbody tr th:only-of-type {\n",
       "        vertical-align: middle;\n",
       "    }\n",
       "\n",
       "    .dataframe tbody tr th {\n",
       "        vertical-align: top;\n",
       "    }\n",
       "\n",
       "    .dataframe thead th {\n",
       "        text-align: right;\n",
       "    }\n",
       "</style>\n",
       "<table border=\"1\" class=\"dataframe\">\n",
       "  <thead>\n",
       "    <tr style=\"text-align: right;\">\n",
       "      <th></th>\n",
       "      <th>continent</th>\n",
       "      <th>year</th>\n",
       "      <th>lifeexp</th>\n",
       "    </tr>\n",
       "  </thead>\n",
       "  <tbody>\n",
       "    <tr>\n",
       "      <th>0</th>\n",
       "      <td>asia</td>\n",
       "      <td>1952</td>\n",
       "      <td>44.869</td>\n",
       "    </tr>\n",
       "    <tr>\n",
       "      <th>1</th>\n",
       "      <td>asia</td>\n",
       "      <td>1957</td>\n",
       "      <td>48.284</td>\n",
       "    </tr>\n",
       "    <tr>\n",
       "      <th>2</th>\n",
       "      <td>asia</td>\n",
       "      <td>1962</td>\n",
       "      <td>49.325</td>\n",
       "    </tr>\n",
       "    <tr>\n",
       "      <th>3</th>\n",
       "      <td>asia</td>\n",
       "      <td>1967</td>\n",
       "      <td>53.655</td>\n",
       "    </tr>\n",
       "    <tr>\n",
       "      <th>4</th>\n",
       "      <td>asia</td>\n",
       "      <td>1972</td>\n",
       "      <td>56.950</td>\n",
       "    </tr>\n",
       "    <tr>\n",
       "      <th>5</th>\n",
       "      <td>asia</td>\n",
       "      <td>1977</td>\n",
       "      <td>60.765</td>\n",
       "    </tr>\n",
       "    <tr>\n",
       "      <th>6</th>\n",
       "      <td>asia</td>\n",
       "      <td>1982</td>\n",
       "      <td>63.739</td>\n",
       "    </tr>\n",
       "    <tr>\n",
       "      <th>7</th>\n",
       "      <td>asia</td>\n",
       "      <td>1987</td>\n",
       "      <td>66.295</td>\n",
       "    </tr>\n",
       "    <tr>\n",
       "      <th>8</th>\n",
       "      <td>asia</td>\n",
       "      <td>1992</td>\n",
       "      <td>68.690</td>\n",
       "    </tr>\n",
       "    <tr>\n",
       "      <th>9</th>\n",
       "      <td>asia</td>\n",
       "      <td>1997</td>\n",
       "      <td>70.265</td>\n",
       "    </tr>\n",
       "    <tr>\n",
       "      <th>10</th>\n",
       "      <td>asia</td>\n",
       "      <td>2002</td>\n",
       "      <td>71.028</td>\n",
       "    </tr>\n",
       "    <tr>\n",
       "      <th>11</th>\n",
       "      <td>asia</td>\n",
       "      <td>2007</td>\n",
       "      <td>72.396</td>\n",
       "    </tr>\n",
       "  </tbody>\n",
       "</table>\n",
       "</div>"
      ],
      "text/plain": [
       "   continent  year  lifeexp\n",
       "0       asia  1952   44.869\n",
       "1       asia  1957   48.284\n",
       "2       asia  1962   49.325\n",
       "3       asia  1967   53.655\n",
       "4       asia  1972   56.950\n",
       "5       asia  1977   60.765\n",
       "6       asia  1982   63.739\n",
       "7       asia  1987   66.295\n",
       "8       asia  1992   68.690\n",
       "9       asia  1997   70.265\n",
       "10      asia  2002   71.028\n",
       "11      asia  2007   72.396"
      ]
     },
     "execution_count": 23,
     "metadata": {},
     "output_type": "execute_result"
    }
   ],
   "source": [
    "calculate_statistic_over_time(df, \"lifeexp\", \"asia\", np.median)"
   ]
  },
  {
   "cell_type": "code",
   "execution_count": 25,
   "metadata": {},
   "outputs": [
    {
     "name": "stdout",
     "output_type": "stream",
     "text": [
      "Help on function calculate_statistic_over_time in module __main__:\n",
      "\n",
      "calculate_statistic_over_time(data, category, continent, func, verbose=0)\n",
      "    calculate values of a statistic through time\n",
      "    \n",
      "    Args:\n",
      "        data: a pandas data frame\n",
      "        category: one of the column headers of the data frame (e.g. 'lifeexp')\n",
      "        continent: possible value of the continent column of that data frame (e.g. 'asia')\n",
      "        func: the funtion to apply to data values (e.g. np.mean)\n",
      "        \n",
      "    Returns:\n",
      "        a summary table of value per year.\n",
      "\n"
     ]
    }
   ],
   "source": [
    "help(calculate_statistic_over_time)"
   ]
  },
  {
   "cell_type": "code",
   "execution_count": 26,
   "metadata": {},
   "outputs": [
    {
     "data": {
      "image/png": "[encoded data removed]",
      "text/plain": [
       "<matplotlib.figure.Figure at 0x7ff54ba08a20>"
      ]
     },
     "metadata": {},
     "output_type": "display_data"
    }
   ],
   "source": [
    "#use this function to plot life expectancy| through time\n",
    "continents = df['continent'].unique()\n",
    "VERBOSE=0\n",
    "fig, ax = plt.subplots()\n",
    "for continent in continents:\n",
    "    output = calculate_statistic_over_time(df,\"lifeexp\", continent, np.median)\n",
    "    output.plot.line('year', \"lifeexp\", ax=ax, label=continent)"
   ]
  },
  {
   "cell_type": "markdown",
   "metadata": {},
   "source": [
    "# Demo: Importing your own functions as module, (main.ipynb)"
   ]
  },
  {
   "cell_type": "code",
   "execution_count": null,
   "metadata": {},
   "outputs": [],
   "source": []
  }
 ],
 "metadata": {
  "anaconda-cloud": {},
  "kernelspec": {
   "display_name": "Python 3",
   "language": "python",
   "name": "python3"
  },
  "language_info": {
   "codemirror_mode": {
    "name": "ipython",
    "version": 3
   },
   "file_extension": ".py",
   "mimetype": "text/x-python",
   "name": "python",
   "nbconvert_exporter": "python",
   "pygments_lexer": "ipython3",
   "version": "3.5.2"
  }
 },
 "nbformat": 4,
 "nbformat_minor": 1
}
