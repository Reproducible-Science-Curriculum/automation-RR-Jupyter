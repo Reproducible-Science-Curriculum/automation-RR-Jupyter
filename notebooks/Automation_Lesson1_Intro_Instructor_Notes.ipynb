{
 "cells": [
  {
   "cell_type": "markdown",
   "metadata": {},
   "source": [
    "## Why automate your work flow, and how to approach the process"
   ]
  },
  {
   "cell_type": "markdown",
   "metadata": {},
   "source": [
    "**Questions for students to consider:**\n",
    "\n",
    "1) In the data exploration section you made some plots from your data. What if you want to look at other relationships? \n",
    "\n",
    "2) Are there computational processes you do often? How do you implement these? \n",
    "\n",
    "3) Do you have a clear workflow you could replicate from data to conclusions?\n",
    "\n",
    "4) Could you plug this new data set into your old workflow? "
   ]
  },
  {
   "cell_type": "markdown",
   "metadata": {},
   "source": [
    "## Level of Python / Jupiter Automation"
   ]
  },
  {
   "cell_type": "markdown",
   "metadata": {},
   "source": [
    "1. __Good__ - Documenting all analysis steps in enough details that will enable them to be reproduced successfully.\n",
    "2. __Better__ - Script your analysis\n",
    "3. __Best__ - Script your analysis and write tests to validate each step."
   ]
  },
  {
   "cell_type": "markdown",
   "metadata": {},
   "source": [
    "### Key takehomes\n",
    "    - Code is read much more often that it is written\n",
    "    - You are NEVER finshed with an analysis (drafts, reviewer comments, new data etc.) \n",
    "         Make your own future life easy!\n",
    "    - Repeating yourself creates opportunity for mistakes/divergence"
   ]
  },
  {
   "cell_type": "markdown",
   "metadata": {},
   "source": [
    "## Learning Objectives of Automation Module:"
   ]
  },
  {
   "cell_type": "markdown",
   "metadata": {},
   "source": [
    "### [Lesson 1](#lesson-1) (10-15 min)\n",
    "- Employ best practices of naming a variable including: don’t use existing function names, avoid periods in names, don’t use numbers at the beginning of a variable name.\n",
    "- Defensive programming: catch errors instead of just fixing them.\n",
    "\n",
    "### [Lesson 2](#lesson-2) (10-15 min)\n",
    "- Define \"Don't Repeat Yourself\" (DRY) and provide examples of how you would implement DRY in your code\n",
    "- Identify code that can be modularized following DRY and implement a modular workflow using functions.\n",
    "\n",
    "### [Lesson 3](#lesson-3) (60 min)\n",
    "- Know how to construct a function: variables, function name, syntax, documentation, return values\n",
    "- Demonstrate use of function within the notebook / code. \n",
    "- Construct and compose function documentation that clearly defines inputs, output variables and behaviour.\n",
    "\n"
   ]
  },
  {
   "cell_type": "markdown",
   "metadata": {},
   "source": [
    "__Basic Overview of the suggested workflow using Socrative (Optional)__"
   ]
  },
  {
   "cell_type": "markdown",
   "metadata": {
    "collapsed": true
   },
   "source": [
    "- Use Socrative quiz to collect answers from student activities (students can run their code in their notebooks, and post to socrative). This will allow the instructor to see what solutions students came up with, and identify any places where misconceptions and confusion are coming up. Using Socrative quizes also allows for a record of the student work to be analyzed after class to see how students are learning and where they are having troubles.\n",
    "- sharing of prepared Socrative Quizes designed to be used with the automation module can be shared by URL links to each teacher so they do not have to be remade."
   ]
  },
  {
   "cell_type": "markdown",
   "metadata": {},
   "source": [
    "---"
   ]
  },
  {
   "cell_type": "markdown",
   "metadata": {},
   "source": [
    "### Setup"
   ]
  },
  {
   "cell_type": "markdown",
   "metadata": {},
   "source": [
    "__Please download the cleaned data file:__\n",
    "\n",
    "https://raw.githubusercontent.com/Reproducible-Science-Curriculum/automation-RR-Jupyter/gh-pages/notebooks/gapminder_cleaned.csv\n",
    "\n",
    "---"
   ]
  },
  {
   "cell_type": "markdown",
   "metadata": {},
   "source": [
    "# Lesson 1 <a id=\"lesson-1\"></a>\n",
    "---"
   ]
  },
  {
   "cell_type": "markdown",
   "metadata": {},
   "source": [
    "Lets begin by creating a new Jupyter notebook.\n",
    "\n",
    "__Question:__ \n",
    "\n",
    "- Accounding to the organization we setup where should we put this notebook?"
   ]
  },
  {
   "cell_type": "markdown",
   "metadata": {},
   "source": [
    "## Review of good variable practices\n",
    "**Learning Objective: ** Employ best practices of naming a variable including: don’t use existing function names, avoid periods in names, don’t use numbers at the beginning of a variable name\n",
    "\n",
    "### Types of variables:\n",
    "- strings, integers, etc..\n",
    "\n",
    "References:\n",
    "- PEP8 - Style Guide for Python Code  - https://www.python.org/dev/peps/pep-0008/ \n",
    "- https://www.tutorialspoint.com/python3/python_variable_types.htm\n",
    "\n",
    "### Keep in mind that code is read many more times then it is written!"
   ]
  },
  {
   "cell_type": "markdown",
   "metadata": {},
   "source": [
    "## Naming conventions that should be followed\n",
    "**Rules**\n"
   ]
  },
  {
   "cell_type": "code",
   "execution_count": null,
   "metadata": {},
   "outputs": [],
   "source": [
    "# write out three variables, assign a number, string, list \n",
    "x = 'Asia' # String\n",
    "y = 1952  # an integer\n",
    "z = 1.5 # a floating point number\n",
    "\n",
    "cal_1 = y * z\n",
    "print(cal_1)\n",
    "\n",
    "# or\n",
    "x, y = 'Asia', 'Africa'\n",
    "w = x\n",
    "w = x + x #concatinating strings (combinging strings)\n",
    "print(w)\n",
    "\n",
    "h = 'Africa'\n",
    "\n",
    "list_1 = ['Asia', 'Africa', 'Europe'] # list\n",
    "print(list_1)"
   ]
  },
  {
   "cell_type": "markdown",
   "metadata": {
    "collapsed": true
   },
   "source": [
    "__Questions for students:__\n",
    "1. what do you think will happen with this code? x * z\n",
    "1. what do you think will happen with this code? list_1[0]\n",
    "1. what do you think will happen with this code? list_1[1:2]"
   ]
  },
  {
   "cell_type": "markdown",
   "metadata": {},
   "source": [
    "## Lists and Indexing"
   ]
  },
  {
   "cell_type": "markdown",
   "metadata": {},
   "source": [
    "Python indexing is from 0 to length of list - 1\n",
    "\n",
    "**Example:** \n",
    "\n",
    "    list_1 = ['Asia', 'Africa', 'Europe']\n",
    "\n",
    "Asia index = 0, \n",
    "Africa index = 1,  \n",
    "Europe index = 2"
   ]
  },
  {
   "cell_type": "markdown",
   "metadata": {},
   "source": [
    "*list_1* is not a very descriptive and identifiable variable.\n",
    "\n",
    "What would be a better name for the variable that holds these values?"
   ]
  },
  {
   "cell_type": "code",
   "execution_count": null,
   "metadata": {},
   "outputs": [],
   "source": [
    "countries = ['Asia', 'Africa', 'Europe'] "
   ]
  },
  {
   "cell_type": "markdown",
   "metadata": {},
   "source": [
    "## Scope of Variables"
   ]
  },
  {
   "cell_type": "markdown",
   "metadata": {},
   "source": [
    "###  Global variables \n",
    "Global variables are available in the environment your script is working in. Every variable we have made at this point is a global variable.\n",
    "\n",
    "###  Local variables \n",
    "Local variables will be useful to understand when we start using functions in the automation of our code. Local variables only exist in the function environment, not the global environment your linear workflow code is. "
   ]
  },
  {
   "cell_type": "markdown",
   "metadata": {},
   "source": [
    "## Other useful conventions with variables to follow\n",
    "1. Set-up variables at the begining of your page, after importing libraries\n",
    "2. use variables instead of file names, or exact values or strings so that if you need to change the value of something you don't have to search through all your code to make sure you made the change everywhere, simply change the value of the variable at the top. -- This will also make your code more reproducible in the end. "
   ]
  },
  {
   "cell_type": "markdown",
   "metadata": {},
   "source": [
    "See what variants exist in the Jupyter notebook:\n",
    "    \n",
    "    %who"
   ]
  },
  {
   "cell_type": "code",
   "execution_count": null,
   "metadata": {},
   "outputs": [],
   "source": [
    "%who"
   ]
  },
  {
   "cell_type": "markdown",
   "metadata": {},
   "source": [
    "## Let's Get Started"
   ]
  },
  {
   "cell_type": "markdown",
   "metadata": {},
   "source": [
    "To get started we will import the python modules that we will use in the session. These modules are developed by programmers and made available as open source packages for python. We would normally have to install each of these ourself but they are included as part of the [Anaconda Python Distribution](https://www.continuum.io/downloads).\n",
    "\n",
    "The _%matplotlib inline_ statement is part of the Jupyter and IPython magic that enables plaots generated by the matplotlib package to be discplayed as output in the Jupyter Notebook instead of open in a separate window."
   ]
  },
  {
   "cell_type": "code",
   "execution_count": null,
   "metadata": {},
   "outputs": [],
   "source": [
    "import numpy as np\n",
    "import pandas as pd\n",
    "import pylab as plt\n",
    "import matplotlib\n",
    "\n",
    "%matplotlib inline"
   ]
  },
  {
   "cell_type": "markdown",
   "metadata": {},
   "source": [
    "We will continue where the _data exploration_ module left off but importing the cleaned gapminder dataset and setting it equal to a new varaible named __df__ to denote that we have imported a _pandas_ dataframe.\n",
    "\n",
    "As validation that we have imported the data we will also look at the top five rows of data using the _head_ method of pandas."
   ]
  },
  {
   "cell_type": "markdown",
   "metadata": {},
   "source": [
    "# Defensive programming"
   ]
  },
  {
   "cell_type": "code",
   "execution_count": null,
   "metadata": {},
   "outputs": [],
   "source": [
    "cleaned_data_location = 'data/gapminder_cleaned.csv'\n",
    "df = pd.read_csv(cleaned_data_location)\n",
    "df.head()"
   ]
  },
  {
   "cell_type": "markdown",
   "metadata": {},
   "source": [
    "Whooops! That doesn't look great. and we know that the file *does* exist. We just downloaded it!\n",
    "Lets do some defensive programming to prevent things from breaking"
   ]
  },
  {
   "cell_type": "markdown",
   "metadata": {},
   "source": [
    "Your most common collaborator is YOU, in the future. Including error handling and messages help your colleagues and students, but most importantly, YOU.\n"
   ]
  },
  {
   "cell_type": "markdown",
   "metadata": {},
   "source": [
    "## Catching errors using try-except\n",
    "try and except statements are  a good way to catch and deal with errors in a convenient way"
   ]
  },
  {
   "cell_type": "code",
   "execution_count": null,
   "metadata": {},
   "outputs": [],
   "source": [
    "cleaned_data_location = 'data/gapminder_cleaned.csv'\n",
    "try:\n",
    "        df = pd.read_csv(cleaned_data_location)\n",
    "except FileNotFoundError:\n",
    "        print(\"Couldn't find data file, check path? You tried\", cleaned_data_location)"
   ]
  },
  {
   "cell_type": "markdown",
   "metadata": {},
   "source": [
    "Exercise: what do you need to fix to actually open that data file?"
   ]
  },
  {
   "cell_type": "code",
   "execution_count": null,
   "metadata": {},
   "outputs": [],
   "source": [
    "cleaned_data_location = '../data/gapminder_cleaned.csv'\n",
    "try:\n",
    "        df = pd.read_csv(cleaned_data_location)\n",
    "except FileNotFoundError:\n",
    "        print(\"Couldn't find data file, check path? You tried\", cleaned_data_location)"
   ]
  },
  {
   "cell_type": "markdown",
   "metadata": {},
   "source": [
    "We can set a flag at the top of our script to dynamically set how much infomation we want to see.\n",
    "e.g. VERBOSE"
   ]
  },
  {
   "cell_type": "code",
   "execution_count": null,
   "metadata": {},
   "outputs": [],
   "source": [
    "VERBOSE = 1"
   ]
  },
  {
   "cell_type": "code",
   "execution_count": null,
   "metadata": {},
   "outputs": [],
   "source": [
    "try:\n",
    "        df = pd.read_csv(cleaned_data_location)\n",
    "        if VERBOSE:\n",
    "            print(df.head())\n",
    "except FileNotFoundError:\n",
    "        print(\"Couldn't find data file, check path? You tried\", cleaned_data_location)\n"
   ]
  },
  {
   "cell_type": "markdown",
   "metadata": {},
   "source": [
    "# using assert statements to be explicit about assumptions\n",
    "assert will fail if statement isn't true. Nothing will happen if it is true"
   ]
  },
  {
   "cell_type": "code",
   "execution_count": null,
   "metadata": {},
   "outputs": [],
   "source": [
    "years = df['year'].unique()\n",
    "years.sort()\n",
    "assert years[-1]==2007 #Check that the most recent year is as expected\n"
   ]
  },
  {
   "cell_type": "markdown",
   "metadata": {
    "collapsed": true
   },
   "source": [
    "# Lesson 2 (10-15 min)<a id=\"lesson-2\"></a>\n",
    "---"
   ]
  },
  {
   "cell_type": "markdown",
   "metadata": {
    "collapsed": true
   },
   "source": [
    "__Learning Objectives__\n",
    "- Define \"Don't Repeat Yourself\" (DRY) and provide examples of how you would implement DRY in your code\n",
    "- Identify code that can be modularized following DRY and implement a modular workflow using functions."
   ]
  },
  {
   "cell_type": "markdown",
   "metadata": {
    "collapsed": true
   },
   "source": [
    "As you write software there comes a time when you are going to encounter a situation where you want to do the same analysis step as you have already done in your analysis. Our natural tendancy is the copy the code that we wrote and paste it into teh new location for reuse.  Sounds easy, right. Copy, paste, move on...not so fast.\n",
    "\n",
    "What happens if there is a problem with the code or you decide to tweak it, just a little, to change a format or enahce it?\n",
    "\n",
    "You wil have to change the code in every place you ahve copied it. How do you know if you got _all_ of the copies? What happens if one of the copies is _not_ changed?\n",
    "\n",
    "These examples illustrate the principle of \"Don't Repeat Yourself\". We are going to look at how to __refactor__ our code and pull pieces out by making them functions. They we will __call__ the function everytime we want to use that code."
   ]
  },
  {
   "cell_type": "markdown",
   "metadata": {},
   "source": [
    "# What if we want to ask questions about variables over time?\n",
    "## Lets start with mean life expectancy in Asia"
   ]
  },
  {
   "cell_type": "code",
   "execution_count": null,
   "metadata": {},
   "outputs": [],
   "source": [
    "#decide on a year, and calculate the statistic of interest\n",
    "\n",
    "mask_continent = df['continent'] == 'asia'\n",
    "df_continent = df[mask_continent]\n",
    "summary = []\n",
    "\n",
    "mask_year = df_continent['year'] == 1997\n",
    "df_year = df_continent[mask_year]\n",
    "value = np.mean(df_year['lifeexp'])\n",
    "summary.append(('asia', '1997', value))\n",
    "    \n",
    "# Turn the summary into a dataframe so that we can visualize easily\n",
    "summary = pd.DataFrame(summary, columns=['continent', 'year', 'lifeexp'])\n"
   ]
  },
  {
   "cell_type": "code",
   "execution_count": null,
   "metadata": {},
   "outputs": [],
   "source": [
    "summary"
   ]
  },
  {
   "cell_type": "code",
   "execution_count": null,
   "metadata": {},
   "outputs": [],
   "source": [
    "# Use a for loop to Loop through years and calculate the statistic of interest\n",
    "\n",
    "mask_continent = df['continent'] == 'asia'\n",
    "df_continent = df[mask_continent]\n",
    "\n",
    "years = df_continent['year'].unique()\n",
    "summary = []\n",
    "\n",
    "for year in years:\n",
    "    mask_year = df_continent['year'] == year\n",
    "    df_year = df_continent[mask_year]\n",
    "    value = np.mean(df_year['lifeexp'])\n",
    "    summary.append(('asia', year, value))\n",
    "    \n",
    "# Turn the summary into a dataframe so that we can visualize easily\n",
    "summary = pd.DataFrame(summary, columns=['continent', 'year', 'lifeexp'])"
   ]
  },
  {
   "cell_type": "code",
   "execution_count": null,
   "metadata": {},
   "outputs": [],
   "source": [
    "summary"
   ]
  },
  {
   "cell_type": "markdown",
   "metadata": {},
   "source": [
    "# But now your PI wants that information for a different continent!"
   ]
  },
  {
   "cell_type": "markdown",
   "metadata": {},
   "source": [
    "## Activity: How could we use variables to make it easier to re-run this for differnet continents?"
   ]
  },
  {
   "cell_type": "code",
   "execution_count": null,
   "metadata": {},
   "outputs": [],
   "source": [
    "# Define which continent / category we will use\n",
    "category = 'lifeexp'\n",
    "continent = 'asia'\n",
    "\n",
    "# Create a mask that selects the continent of choice\n",
    "mask_continent = df['continent'] == 'asia'\n",
    "df_continent = df[mask_continent]\n",
    "\n",
    "# Loop through years and calculate the statistic of interest\n",
    "years = df_continent['year'].unique()\n",
    "summary = []\n",
    "\n",
    "for year in years:\n",
    "    mask_year = df_continent['year'] == year\n",
    "    df_year = df_continent[mask_year]\n",
    "    value = np.mean(df_year[category])\n",
    "    summary.append((continent, year, value))\n",
    "    \n",
    "# Turn the summary into a dataframe so that we can visualize easily\n",
    "summary = pd.DataFrame(summary, columns=['continent', 'year', category])"
   ]
  },
  {
   "cell_type": "code",
   "execution_count": null,
   "metadata": {},
   "outputs": [],
   "source": [
    "summary.plot.line('year', category, label = \"life expectancy\")"
   ]
  },
  {
   "cell_type": "markdown",
   "metadata": {},
   "source": [
    "# Lesson 3 <a id=\"lesson-3\"></a>\n",
    "## Building functions\n",
    "---"
   ]
  },
  {
   "cell_type": "markdown",
   "metadata": {},
   "source": [
    "__Learning Objectives__\n",
    "- Know how to construct a function: variables, function name, syntax, documentation, return values\n",
    "- Demonstrate use of function within the notebook / code.\n",
    "- Construct and compose function documentation that clearly defines inputs, output "
   ]
  },
  {
   "cell_type": "code",
   "execution_count": null,
   "metadata": {},
   "outputs": [],
   "source": [
    "def calculate_mean_over_time(data, category, continent):\n",
    "    \n",
    "    # Create a mask that selects the continent of choice\n",
    "    mask_continent = data['continent'] == continent\n",
    "    data_continent = data[mask_continent]\n",
    "\n",
    "    # Loop through years and calculate the statistic of interest\n",
    "    years = data_continent['year'].unique()\n",
    "    summary = []\n",
    "    for year in years:\n",
    "        if VERBOSE:\n",
    "            print(year)\n",
    "        mask_year = data_continent['year'] == year\n",
    "        data_year = data_continent[mask_year]\n",
    "        value = np.mean(data_year[category])\n",
    "        summary.append((continent, year, value))\n",
    "\n",
    "    # Turn the summary into a dataframe so that we can visualize easily\n",
    "    summary = pd.DataFrame(summary, columns=['continent', 'year', category])\n",
    "    return summary"
   ]
  },
  {
   "cell_type": "code",
   "execution_count": null,
   "metadata": {},
   "outputs": [],
   "source": [
    "VERBOSE = 0\n",
    "calculate_mean_over_time(df, \"lifeexp\", \"asia\")"
   ]
  },
  {
   "cell_type": "markdown",
   "metadata": {},
   "source": [
    "# Activity:\n",
    "    How would you make a function to calculate the median through time?\n",
    "    (Hint: focus on DRY. Other hint: )"
   ]
  },
  {
   "cell_type": "code",
   "execution_count": null,
   "metadata": {},
   "outputs": [],
   "source": [
    "def calculate_statistic_over_time(data, category, continent, func):\n",
    "    \n",
    "    # Create a mask that selects the continent of choice\n",
    "    mask_continent = data['continent'] == continent\n",
    "    data_continent = data[mask_continent]\n",
    "\n",
    "    # Loop through years and calculate the statistic of interest\n",
    "    years = data_continent['year'].unique()\n",
    "    summary = []\n",
    "    for year in years:\n",
    "        mask_year = data_continent['year'] == year\n",
    "        data_year = data_continent[mask_year]\n",
    "        value = func(data_year[category])\n",
    "        summary.append((continent, year, value))\n",
    "\n",
    "    # Turn the summary into a dataframe so that we can visualize easily\n",
    "    summary = pd.DataFrame(summary, columns=['continent', 'year', category])\n",
    "    return summary"
   ]
  },
  {
   "cell_type": "code",
   "execution_count": null,
   "metadata": {},
   "outputs": [],
   "source": [
    "calculate_statistic_over_time(df, \"lifeexp\", \"asia\", np.median)"
   ]
  },
  {
   "cell_type": "code",
   "execution_count": null,
   "metadata": {},
   "outputs": [],
   "source": [
    "def calculate_statistic_over_time(data, category, continent, func):\n",
    "    \"\"\"calculate values of a statistic through time\n",
    "\n",
    "    Args:\n",
    "        data: a data frame\n",
    "        category: one of the column headers of the data frame (e.g. 'lifeexp')\n",
    "        continent: possible value of the continent column of that data frame (e.g. 'asia')\n",
    "        func: the funtion to apply to data values (e.g. np.mean)\n",
    "        \n",
    "    Returns:\n",
    "        a summary table of value per year.\n",
    "\n",
    "    \"\"\"\n",
    "    \n",
    "    # Create a mask that selects the continent of choice\n",
    "    mask_continent = data['continent'] == continent\n",
    "    data_continent = data[mask_continent]\n",
    "\n",
    "    # Loop through years and calculate the statistic of interest\n",
    "    years = data_continent['year'].unique()\n",
    "    summary = []\n",
    "    for year in years:\n",
    "        mask_year = data_continent['year'] == year\n",
    "        data_year = data_continent[mask_year]\n",
    "        value = func(data_year[category])\n",
    "        summary.append((continent, year, value))\n",
    "\n",
    "    # Turn the summary into a dataframe so that we can visualize easily\n",
    "    summary = pd.DataFrame(summary, columns=['continent', 'year', category])\n",
    "    return summary"
   ]
  },
  {
   "cell_type": "markdown",
   "metadata": {},
   "source": [
    "# Defensive programming activity\n",
    "How would you check to make sure input values are reasonable?\n",
    "Use assertions or try-except statements, and add options with the VERBOSE flag"
   ]
  },
  {
   "cell_type": "code",
   "execution_count": null,
   "metadata": {},
   "outputs": [],
   "source": [
    "def calculate_statistic_over_time(data, category, continent, func):\n",
    "    \"\"\"calculate values of a statistic through time\n",
    "\n",
    "    Args:\n",
    "        data: a pandas data frame\n",
    "        category: one of the column headers of the data frame (e.g. 'lifeexp')\n",
    "        continent: possible value of the continent column of that data frame (e.g. 'asia')\n",
    "        func: the funtion to apply to data values (e.g. np.mean)\n",
    "        \n",
    "    Returns:\n",
    "        a summary table of value per year.\n",
    "\n",
    "    \"\"\"\n",
    "    \n",
    "    # Check values\n",
    "    assert category in data.columns.values\n",
    "    assert 'continent' in data.columns.values\n",
    "    assert continent in data['continent'].unique()\n",
    "    \n",
    "    # Create a mask that selects the continent of choice\n",
    "    mask_continent = data['continent'] == continent\n",
    "    data_continent = data[mask_continent]\n",
    "    \n",
    "    \n",
    "    # Loop through years and calculate the statistic of interest\n",
    "    years = data_continent['year'].unique()\n",
    "    if VERBOSE:\n",
    "        print(\"years include\", years)\n",
    "    summary = []\n",
    "    for year in years:\n",
    "        mask_year = data_continent['year'] == year\n",
    "        data_year = data_continent[mask_year]\n",
    "        value = func(data_year[category])\n",
    "        summary.append((continent, year, value))\n",
    "\n",
    "    # Turn the summary into a dataframe so that we can visualize easily\n",
    "    summary = pd.DataFrame(summary, columns=['continent', 'year', category])\n",
    "    return summary"
   ]
  },
  {
   "cell_type": "code",
   "execution_count": null,
   "metadata": {},
   "outputs": [],
   "source": [
    "VERBOSE = 1\n",
    "calculate_statistic_over_time(df, \"lifeexp\", \"asia\", np.median)"
   ]
  },
  {
   "cell_type": "code",
   "execution_count": null,
   "metadata": {},
   "outputs": [],
   "source": [
    "help(calculate_statistic_over_time)"
   ]
  },
  {
   "cell_type": "code",
   "execution_count": null,
   "metadata": {},
   "outputs": [],
   "source": [
    "#use this function to plot life expectancy through time\n",
    "continents = df['continent'].unique()\n",
    "VERBOSE=0\n",
    "fig, ax = plt.subplots()\n",
    "for continent in continents:\n",
    "    output = calculate_statistic_over_time(df, category, continent, np.median)\n",
    "    output.plot.line('year', category, ax=ax, label=continent)"
   ]
  }
 ],
 "metadata": {
  "anaconda-cloud": {},
  "kernelspec": {
   "display_name": "Python 3",
   "language": "python",
   "name": "python3"
  },
  "language_info": {
   "codemirror_mode": {
    "name": "ipython",
    "version": 3
   },
   "file_extension": ".py",
   "mimetype": "text/x-python",
   "name": "python",
   "nbconvert_exporter": "python",
   "pygments_lexer": "ipython3",
   "version": "3.5.2"
  }
 },
 "nbformat": 4,
 "nbformat_minor": 1
}
