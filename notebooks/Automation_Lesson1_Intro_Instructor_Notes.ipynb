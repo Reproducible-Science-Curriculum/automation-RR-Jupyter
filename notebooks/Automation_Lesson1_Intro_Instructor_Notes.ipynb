{
 "cells": [
  {
   "cell_type": "markdown",
   "metadata": {},
   "source": [
    "## Why automate your work flow, and how to approach the process"
   ]
  },
  {
   "cell_type": "markdown",
   "metadata": {},
   "source": [
    "**Questions for students to consider:**\n",
    "\n",
    "1) What happens when you get a new dataset that you need to analyze in the same way you analyzed a previous data set? \n",
    "\n",
    "2) What processes do you do often? How do you implement these? \n",
    "\n",
    "3) Do you have a clear workflow you could replicate?\n",
    "\n",
    "4) Or even better, could you plug this new data set into your old workflow? "
   ]
  },
  {
   "cell_type": "markdown",
   "metadata": {},
   "source": [
    "---"
   ]
  },
  {
   "cell_type": "markdown",
   "metadata": {},
   "source": [
    "## Learning Objectives of Automation Module:"
   ]
  },
  {
   "cell_type": "markdown",
   "metadata": {
    "collapsed": false,
    "deletable": true,
    "editable": true
   },
   "source": [
    "### [Lesson 1](#lesson-1) (10-15 min)\n",
    "- Employ best practices of naming a variable including: don’t use existing function names, avoid periods in names, don’t use numbers at the beginning of a variable name.\n",
    "\n",
    "### [Lesson 2](#lesson-2) (10-15 min)\n",
    "- Define \"Don't Repeat Yourself\" (DRY) and provide examples of how you would implement DRY in your code\n",
    "- Identify code that can be modularized following DRY and implement a modular workflow using functions.\n",
    "\n",
    "### [Lesson 3](#lesson-3) (60 min)\n",
    "- Know how to construct a function: variables, function name, syntax, documentation, return values\n",
    "- Demonstrate use of function within the notebook / code. \n",
    "- Construct and compose function documentation that clearly defines inputs, output variables and behaviour.\n",
    "\n",
    "### [Lesson 4](#lesson-4) (10-15 min)\n",
    "- Organize a set of functions within a python (.py) script and use it (import it into) in a Jupyter notebook.\n",
    "\n",
    "### [Lesson 5](#lesson-5) (20-30 min)\n",
    "__Optional lesson__\n",
    "- Use asserts to test validity of function inputs and outputs\n",
    "\n",
    "### Lesson 6 (To be added at a later date)\n",
    "- (right now this is not useful in people's current workflows in python)\n",
    "Demonstration of how to pull all components we went over together into one finished document"
   ]
  },
  {
   "cell_type": "markdown",
   "metadata": {
    "deletable": true,
    "editable": true
   },
   "source": [
    "__Basic Overview of the suggested workflow using Socrative (Optional)__"
   ]
  },
  {
   "cell_type": "markdown",
   "metadata": {
    "collapsed": true,
    "deletable": true,
    "editable": true
   },
   "source": [
    "- Use Socrative quiz to collect answers from student activities (students can run their code in their notebooks, and post to socrative). This will allow the instructor to see what solutions students came up with, and identify any places where misconceptions and confusion are coming up. Using Socrative quizes also allows for a record of the student work to be analyzed after class to see how students are learning and where they are having troubles.\n",
    "- sharing of prepared Socrative Quizes designed to be used with the automation module can be shared by URL links to each teacher so they do not have to be remade."
   ]
  },
  {
   "cell_type": "markdown",
   "metadata": {},
   "source": [
    "---"
   ]
  },
  {
   "cell_type": "markdown",
   "metadata": {
    "deletable": true,
    "editable": true
   },
   "source": [
    "## Level of Python / Jupiter Automation"
   ]
  },
  {
   "cell_type": "markdown",
   "metadata": {
    "deletable": true,
    "editable": true
   },
   "source": [
    "1. __Good__ - Documenting all analysis steps in enough details that will enable them to be reproduced successfully.\n",
    "2. __Better__ - Script your analysis\n",
    "3. __Best__ - Script your analysis and write tests to validate each step."
   ]
  },
  {
   "cell_type": "markdown",
   "metadata": {},
   "source": [
    "### Setup"
   ]
  },
  {
   "cell_type": "markdown",
   "metadata": {
    "deletable": true,
    "editable": true
   },
   "source": [
    "__Please download the cleaned data file:__\n",
    "\n",
    "https://github.com/Reproducible-Science-Curriculum/automation-RR-Jupyter/blob/master/gapminder_cleaned.csv\n",
    "\n",
    "---"
   ]
  },
  {
   "cell_type": "markdown",
   "metadata": {
    "deletable": true,
    "editable": true
   },
   "source": [
    "# Lesson 1 <a id=\"lesson-1\"></a>\n",
    "---"
   ]
  },
  {
   "cell_type": "markdown",
   "metadata": {
    "deletable": true,
    "editable": true
   },
   "source": [
    "Lets begin by creating a new Jupyter notebook.\n",
    "\n",
    "__Question:__ \n",
    "\n",
    "- Accounding to the organization we setup where should we put this notebook?"
   ]
  },
  {
   "cell_type": "markdown",
   "metadata": {
    "deletable": true,
    "editable": true
   },
   "source": [
    "## Review of good variable practices\n",
    "**Learning Objective: ** Employ best practices of naming a variable including: don’t use existing function names, avoid periods in names, don’t use numbers at the beginning of a variable name\n",
    "\n",
    "### Types of variables:\n",
    "- strings, integers, etc..\n",
    "\n",
    "References:\n",
    "- PEP8 - Style Guide for Python Code  - https://www.python.org/dev/peps/pep-0008/ \n",
    "- https://www.tutorialspoint.com/python3/python_variable_types.htm\n",
    "\n",
    "### Keep in mind that code is read many more times then it is written!"
   ]
  },
  {
   "cell_type": "markdown",
   "metadata": {
    "deletable": true,
    "editable": true
   },
   "source": [
    "## Naming conventions that should be followed\n",
    "**Rules**\n"
   ]
  },
  {
   "cell_type": "code",
   "execution_count": null,
   "metadata": {
    "collapsed": false,
    "deletable": true,
    "editable": true
   },
   "outputs": [],
   "source": [
    "# write out three variables, assign a number, string, list \n",
    "x = 'Asia' # String\n",
    "y = 1952  # an integer\n",
    "z = 1.5 # a floating point number\n",
    "\n",
    "cal_1 = y * z\n",
    "print(cal_1)\n",
    "\n",
    "# or\n",
    "x, y = 'Asia', 'Africa'\n",
    "w = x\n",
    "w = x + x #concatinating strings (combinging strings)\n",
    "print(w)\n",
    "\n",
    "h = 'Africa'\n",
    "\n",
    "list_1 = ['Asia', 'Africa', 'Europe'] # list\n",
    "print(list_1)"
   ]
  },
  {
   "cell_type": "markdown",
   "metadata": {
    "collapsed": true,
    "deletable": true,
    "editable": true
   },
   "source": [
    "__Questions for students:__\n",
    "1. what do you think will happen with this code? x * z\n",
    "1. what do you think will happen with this code? list_1[0]\n",
    "1. what do you think will happen with this code? list_1[1:2]"
   ]
  },
  {
   "cell_type": "markdown",
   "metadata": {
    "deletable": true,
    "editable": true
   },
   "source": [
    "## Lists and Indexing"
   ]
  },
  {
   "cell_type": "markdown",
   "metadata": {
    "deletable": true,
    "editable": true
   },
   "source": [
    "Python indexing is from 0 to length of list - 1\n",
    "\n",
    "**Example:** \n",
    "\n",
    "    list_1 = ['Asia', 'Africa', 'Europe']\n",
    "\n",
    "Asia index = 0, \n",
    "Africa index = 1,  \n",
    "Europe index = 2"
   ]
  },
  {
   "cell_type": "markdown",
   "metadata": {
    "deletable": true,
    "editable": true
   },
   "source": [
    "*list_1* is not a very descriptive and identifiable variable.\n",
    "\n",
    "What would be a better name for the variable that holds these values?"
   ]
  },
  {
   "cell_type": "code",
   "execution_count": null,
   "metadata": {
    "collapsed": true,
    "deletable": true,
    "editable": true
   },
   "outputs": [],
   "source": [
    "countries = ['Asia', 'Africa', 'Europe'] "
   ]
  },
  {
   "cell_type": "markdown",
   "metadata": {
    "deletable": true,
    "editable": true
   },
   "source": [
    "## Scope of Variables"
   ]
  },
  {
   "cell_type": "markdown",
   "metadata": {
    "deletable": true,
    "editable": true
   },
   "source": [
    "###  Global variables \n",
    "Global variables are available in the environment your script is working in. Every variable we have made at this point is a global variable.\n",
    "\n",
    "###  Local variables \n",
    "Local variables will be useful to understand when we start using functions in the automation of our code. Local variables only exist in the function environment, not the global environment your linear workflow code is. "
   ]
  },
  {
   "cell_type": "markdown",
   "metadata": {
    "deletable": true,
    "editable": true
   },
   "source": [
    "## Other useful conventions with variables to follow\n",
    "1. Set-up variables at the begining of your page, after importing libraries\n",
    "2. use variables instead of file names, or exact values or strings so that if you need to change the value of something you don't have to search through all your code to make sure you made the change everywhere, simply change the value of the variable at the top. -- This will also make your code more reproducible in the end. "
   ]
  },
  {
   "cell_type": "markdown",
   "metadata": {
    "deletable": true,
    "editable": true
   },
   "source": [
    "See what variants exist in the Jupyter notebook:\n",
    "    \n",
    "    %who"
   ]
  },
  {
   "cell_type": "code",
   "execution_count": null,
   "metadata": {
    "collapsed": false,
    "deletable": true,
    "editable": true
   },
   "outputs": [],
   "source": [
    "%who"
   ]
  },
  {
   "cell_type": "markdown",
   "metadata": {
    "deletable": true,
    "editable": true
   },
   "source": [
    "## Let's Get Started"
   ]
  },
  {
   "cell_type": "markdown",
   "metadata": {
    "deletable": true,
    "editable": true
   },
   "source": [
    "To get started we will import the python modules that we will use in the session. These modules are developed by programmers and made available as open source packages for python. We would normally have to install each of these ourself but they are included as part of the [Anaconda Python Distribution](https://www.continuum.io/downloads).\n",
    "\n",
    "The _%matplotlib inline_ statement is part of the Jupyter and IPython magic that enables plaots generated by the matplotlib package to be discplayed as output in the Jupyter Notebook instead of open in a separate window."
   ]
  },
  {
   "cell_type": "code",
   "execution_count": null,
   "metadata": {
    "collapsed": true,
    "deletable": true,
    "editable": true
   },
   "outputs": [],
   "source": [
    "import numpy as np\n",
    "import pandas as pd\n",
    "import pylab as plt\n",
    "import matplotlib\n",
    "\n",
    "%matplotlib inline"
   ]
  },
  {
   "cell_type": "markdown",
   "metadata": {
    "deletable": true,
    "editable": true
   },
   "source": [
    "We will continue where the _data exploration_ module left off but importing the cleaned gapminder dataset and setting it equal to a new varaible named __df__ to denote that we have imported a _pandas_ dataframe.\n",
    "\n",
    "As validation that we have imported the data we will also look at the top five rows of data using the _head_ method of pandas."
   ]
  },
  {
   "cell_type": "code",
   "execution_count": null,
   "metadata": {
    "collapsed": true,
    "deletable": true,
    "editable": true
   },
   "outputs": [],
   "source": [
    "cleaned_data_location = 'gapminder_cleaned.csv'"
   ]
  },
  {
   "cell_type": "code",
   "execution_count": null,
   "metadata": {
    "collapsed": false,
    "deletable": true,
    "editable": true
   },
   "outputs": [],
   "source": [
    "df = pd.read_csv(cleaned_data_location)\n",
    "df.head()"
   ]
  },
  {
   "cell_type": "code",
   "execution_count": null,
   "metadata": {
    "collapsed": false,
    "deletable": true,
    "editable": true
   },
   "outputs": [],
   "source": [
    "df['year'].unique()"
   ]
  },
  {
   "cell_type": "markdown",
   "metadata": {
    "collapsed": true,
    "deletable": true,
    "editable": true
   },
   "source": [
    "# Lesson 2 (10-15 min)<a id=\"lesson-2\"></a>\n",
    "---"
   ]
  },
  {
   "cell_type": "markdown",
   "metadata": {
    "collapsed": true,
    "deletable": true,
    "editable": true
   },
   "source": [
    "__Learning Objectives__\n",
    "- Define \"Don't Repeat Yourself\" (DRY) and provide examples of how you would implement DRY in your code\n",
    "- Identify code that can be modularized following DRY and implement a modular workflow using functions."
   ]
  },
  {
   "cell_type": "markdown",
   "metadata": {
    "collapsed": true,
    "deletable": true,
    "editable": true
   },
   "source": [
    "As you write software there comes a time when you are going to encounter a situation where you want to do the same analysis step as you have already done in your analysis. Our natural tendancy is the copy the code that we wrote and paste it into teh new location for reuse.  Sounds easy, right. Copy, paste, move on...not so fast.\n",
    "\n",
    "What happens if there is a problem with the code or you decide to tweak it, just a little, to change a format or enahce it?\n",
    "\n",
    "You wil have to change the code in every place you ahve copied it. How do you know if you got _all_ of the copies? What happens if one of the copies is _not_ changed?\n",
    "\n",
    "These examples illustrate the principle of \"Don't Repeat Yourself\". We are going to look at how to __refactor__ our code and pull pieces out by making them functions. They we will __call__ the function everytime we want to use that code."
   ]
  },
  {
   "cell_type": "code",
   "execution_count": null,
   "metadata": {
    "collapsed": true,
    "deletable": true,
    "editable": true
   },
   "outputs": [],
   "source": [
    "# Define which continent / category we will use\n",
    "category = 'lifeexp'\n",
    "continent = 'asia'"
   ]
  },
  {
   "cell_type": "code",
   "execution_count": null,
   "metadata": {
    "collapsed": true,
    "deletable": true,
    "editable": true
   },
   "outputs": [],
   "source": [
    "# Create a mask that selects the continent of choice\n",
    "mask_continent = df['continent'] == continent\n",
    "df_continent = df[mask_continent]"
   ]
  },
  {
   "cell_type": "code",
   "execution_count": null,
   "metadata": {
    "collapsed": true,
    "deletable": true,
    "editable": true
   },
   "outputs": [],
   "source": [
    "# Loop through years and calculate the statistic of interest\n",
    "years = df_continent['year'].unique()\n",
    "summary = []\n",
    "\n",
    "for year in years:\n",
    "    mask_year = df_continent['year'] == year\n",
    "    df_year = df_continent[mask_year]\n",
    "    value = np.mean(df_year[category])\n",
    "    summary.append((continent, year, value))\n",
    "    \n",
    "# Turn the summary into a dataframe so that we can visualize easily\n",
    "summary = pd.DataFrame(summary, columns=['continent', 'year', category])"
   ]
  },
  {
   "cell_type": "code",
   "execution_count": null,
   "metadata": {
    "collapsed": false,
    "deletable": true,
    "editable": true
   },
   "outputs": [],
   "source": [
    "summary.plot.line('year', 'lifeexp')"
   ]
  },
  {
   "cell_type": "markdown",
   "metadata": {
    "deletable": true,
    "editable": true
   },
   "source": [
    "# Lesson 3 <a id=\"lesson-3\"></a>\n",
    "---"
   ]
  },
  {
   "cell_type": "markdown",
   "metadata": {
    "deletable": true,
    "editable": true
   },
   "source": [
    "__Learning Objectives__\n",
    "- Know how to construct a function: variables, function name, syntax, documentation, return values\n",
    "- Demonstrate use of function within the notebook / code.\n",
    "- Construct and compose function documentation that clearly defines inputs, output "
   ]
  },
  {
   "cell_type": "code",
   "execution_count": null,
   "metadata": {
    "collapsed": true,
    "deletable": true,
    "editable": true
   },
   "outputs": [],
   "source": [
    "def calculate_statistic_over_time(data, category, continent, func=None):\n",
    "    if func is None:\n",
    "        func = np.mean\n",
    "        \n",
    "    # Create a mask that selects the continent of choice\n",
    "    mask_continent = data['continent'] == continent\n",
    "    data_continent = data[mask_continent]\n",
    "\n",
    "    # Loop through years and calculate the statistic of interest\n",
    "    years = data_continent['year'].unique()\n",
    "    summary = []\n",
    "    for year in years:\n",
    "        mask_year = data_continent['year'] == year\n",
    "        data_year = data_continent[mask_year]\n",
    "        value = func(data_year[category])\n",
    "        summary.append((continent, year, value))\n",
    "\n",
    "    # Turn the summary into a dataframe so that we can visualize easily\n",
    "    summary = pd.DataFrame(summary, columns=['continent', 'year', category])\n",
    "    return summary"
   ]
  },
  {
   "cell_type": "code",
   "execution_count": null,
   "metadata": {
    "collapsed": false,
    "deletable": true,
    "editable": true
   },
   "outputs": [],
   "source": [
    "category = 'lifeexp'\n",
    "continents = df['continent'].unique()\n",
    "\n",
    "fig, ax = plt.subplots()\n",
    "for continent in continents:\n",
    "    output = calculate_statistic_over_time(df, category, continent)\n",
    "    output.plot.line('year', category, ax=ax)"
   ]
  },
  {
   "cell_type": "code",
   "execution_count": null,
   "metadata": {
    "collapsed": false,
    "deletable": true,
    "editable": true
   },
   "outputs": [],
   "source": [
    "category = 'lifeexp'\n",
    "mean_values = df.groupby('continent').mean()[category]\n",
    "mean_values = mean_values.sort_values(ascending=False)\n",
    "continents = mean_values.index.values\n",
    "\n",
    "n_continents = len(continents)\n",
    "cmap = plt.cm.coolwarm_r\n",
    "\n",
    "fig, ax = plt.subplots()\n",
    "for ii, continent in enumerate(continents):\n",
    "    this_color = cmap(float(ii / n_continents))\n",
    "    output = calculate_statistic_over_time(df, category, continent)\n",
    "    output.plot.line('year', category, ax=ax, label=continent,\n",
    "                     color=this_color)\n",
    "    plt.legend(loc=(1.02, 0))\n",
    "    ax.set(ylabel=category, xlabel='Year',\n",
    "           title='{} over time'.format(category))\n",
    "    \n",
    "plt.setp(ax.lines, lw=4, alpha=.4)"
   ]
  },
  {
   "cell_type": "code",
   "execution_count": null,
   "metadata": {
    "collapsed": true,
    "deletable": true,
    "editable": true
   },
   "outputs": [],
   "source": [
    "def plot_statistic_over_time(data, category, func=None,\n",
    "                             cmap=None, ax=None, legend=True,\n",
    "                             sort=True):\n",
    "    if ax is None:\n",
    "        fig, ax = plt.subplots()\n",
    "    if cmap is None:\n",
    "        cmap = plt.cm.viridis\n",
    "    \n",
    "    if sort is True:\n",
    "        # Sort the continents by the category of choice\n",
    "        mean_values = df.groupby('continent').mean()[category]\n",
    "        mean_values = mean_values.sort_values(ascending=False)\n",
    "        continents = mean_values.index.values\n",
    "    else:\n",
    "        continents = np.unique(df['continent'])\n",
    "    n_continents = len(continents)\n",
    "\n",
    "    # Loop through continents, calculate its stat, and add a line\n",
    "    for ii, continent in enumerate(continents):\n",
    "        this_color = cmap(float(ii / n_continents))\n",
    "        output = calculate_statistic_over_time(data, category, continent)\n",
    "        output.plot.line('year', category, ax=ax, label=continent,\n",
    "                         color=this_color)\n",
    "        if legend is True:\n",
    "            plt.legend(loc=(1.02, 0))\n",
    "        else:\n",
    "            ax.get_legend().set(visible=False)\n",
    "        ax.set(ylabel=category, xlabel='Year',\n",
    "               title='{} over time'.format(category))\n",
    "\n",
    "    plt.setp(ax.lines, lw=4, alpha=.4)\n",
    "    return ax"
   ]
  },
  {
   "cell_type": "code",
   "execution_count": null,
   "metadata": {
    "collapsed": false,
    "deletable": true,
    "editable": true
   },
   "outputs": [],
   "source": [
    "plot_statistic_over_time(df, category, continent, cmap=plt.cm.coolwarm)"
   ]
  },
  {
   "cell_type": "code",
   "execution_count": null,
   "metadata": {
    "collapsed": false,
    "deletable": true,
    "editable": true
   },
   "outputs": [],
   "source": [
    "fig, axs = plt.subplots(1, 2, figsize=(10, 5))\n",
    "categories = ['pop', 'gdppercap']\n",
    "for ax, i_category in zip(axs, categories):\n",
    "    plot_statistic_over_time(df, i_category, continent,\n",
    "                             ax=ax, sort=False)\n",
    "plt.setp(axs[0].get_legend(), visible=False)\n",
    "plt.tight_layout()"
   ]
  },
  {
   "cell_type": "code",
   "execution_count": null,
   "metadata": {
    "collapsed": false,
    "deletable": true,
    "editable": true
   },
   "outputs": [],
   "source": [
    "fig, axs = plt.subplots(1, 2, figsize=(10, 5), sharey=True)\n",
    "cmaps = [plt.cm.viridis, plt.cm.coolwarm]\n",
    "for ax, cmap in zip(axs, cmaps):\n",
    "    plot_statistic_over_time(df, category, continent,\n",
    "                             cmap=cmap, ax=ax, legend=False)"
   ]
  },
  {
   "cell_type": "code",
   "execution_count": null,
   "metadata": {
    "collapsed": false,
    "deletable": true,
    "editable": true
   },
   "outputs": [],
   "source": [
    "ax = df.groupby(['continent', 'year']).mean()['lifeexp']\\\n",
    "       .unstack('continent').plot(cmap=plt.cm.viridis, alpha=.4, lw=3)"
   ]
  },
  {
   "cell_type": "markdown",
   "metadata": {
    "deletable": true,
    "editable": true
   },
   "source": [
    "# Lesson 4 <a id=\"lesson-4\"></a>\n",
    "---"
   ]
  },
  {
   "cell_type": "markdown",
   "metadata": {
    "deletable": true,
    "editable": true
   },
   "source": [
    "__Learning Objective__\n",
    "- Organize a set of functions within a python (.py) script and use it (import it into) in a Jupyter notebook."
   ]
  },
  {
   "cell_type": "markdown",
   "metadata": {
    "deletable": true,
    "editable": true
   },
   "source": [
    "Now we are going to cut and paste the functions that we have created above. We are going to save them to a single file so we will paste all of the code that we want in that file below. Additionally, we will use the Jupyter / IPython magic, specifically the magic command _writefile_ to save teh contents of the cell below to a file. The file name follows the _%%writefile_ command below.\n",
    "\n",
    "We are assuming that the notebook is in the project code directory and notebook subdirectory."
   ]
  },
  {
   "cell_type": "code",
   "execution_count": null,
   "metadata": {
    "collapsed": false,
    "deletable": true,
    "editable": true
   },
   "outputs": [],
   "source": [
    "%%writefile stats_and_plot.py\n",
    "def calculate_statistic_over_time(data, category, continent, func=None):\n",
    "    import numpy as np\n",
    "    import pandas as pd\n",
    "\n",
    "    if func is None:\n",
    "        func = np.mean\n",
    "        \n",
    "    # Create a mask that selects the continent of choice\n",
    "    mask_continent = data['continent'] == continent\n",
    "    data_continent = data[mask_continent]\n",
    "\n",
    "    # Loop through years and calculate the statistic of interest\n",
    "    years = data_continent['year'].unique()\n",
    "    summary = []\n",
    "    for year in years:\n",
    "        mask_year = data_continent['year'] == year\n",
    "        data_year = data_continent[mask_year]\n",
    "        value = func(data_year[category])\n",
    "        summary.append((continent, year, value))\n",
    "\n",
    "    # Turn the summary into a dataframe so that we can visualize easily\n",
    "    summary = pd.DataFrame(summary, columns=['continent', 'year', category])\n",
    "    return summary\n",
    "\n",
    "\n",
    "def plot_statistic_over_time(data, category, func=None, cmap=None, ax=None, legend=True, sort=True):\n",
    "    if ax is None:\n",
    "        fig, ax = plt.subplots()\n",
    "    if cmap is None:\n",
    "        cmap = plt.cm.viridis\n",
    "    \n",
    "    if sort is True:\n",
    "        # Sort the continents by the category of choice\n",
    "        mean_values = df.groupby('continent').mean()[category]\n",
    "        mean_values = mean_values.sort_values(ascending=False)\n",
    "        continents = mean_values.index.values\n",
    "    else:\n",
    "        continents = np.unique(df['continent'])\n",
    "    n_continents = len(continents)\n",
    "\n",
    "    # Loop through continents, calculate its stat, and add a line\n",
    "    for ii, continent in enumerate(continents):\n",
    "        this_color = cmap(float(ii / n_continents))\n",
    "        output = calculate_statistic_over_time(data, category, continent)\n",
    "        output.plot.line('year', category, ax=ax, label=continent,\n",
    "                         color=this_color)\n",
    "        if legend is True:\n",
    "            plt.legend(loc=(1.02, 0))\n",
    "        else:\n",
    "            ax.get_legend().set(visible=False)\n",
    "        ax.set(ylabel=category, xlabel='Year',\n",
    "               title='{} over time'.format(category))\n",
    "\n",
    "    plt.setp(ax.lines, lw=4, alpha=.4)\n",
    "    return ax"
   ]
  },
  {
   "cell_type": "markdown",
   "metadata": {
    "deletable": true,
    "editable": true
   },
   "source": [
    "If you would like to see the contents of your file you can type:\n",
    "    \n",
    "    %load stats_and_plot.py\n",
    "    \n",
    "    or try\n",
    "    \n",
    "    %pycat stats_and_plot.py"
   ]
  },
  {
   "cell_type": "code",
   "execution_count": null,
   "metadata": {
    "collapsed": false,
    "deletable": true,
    "editable": true
   },
   "outputs": [],
   "source": []
  },
  {
   "cell_type": "markdown",
   "metadata": {
    "collapsed": true,
    "deletable": true,
    "editable": true
   },
   "source": [
    "## Imports\n",
    "\n",
    "**Some information on _imports_:**\n",
    "\n",
    "In order to use external code within python two things have to happen: 1) The code has to exist on you local computer and 2) we have to reference or import to code to use it in our program.\n",
    "\n",
    "The first requirement is satisfied when we install the softwre on our computer using _conda_ or _pip_. Or as we will see in a minute, we can create custom functions that we create. Secondly, we need to tell python how to access and refer to the packages or source code we want to use.\n",
    "\n",
    "**Import Guidelines**\n",
    "\n",
    "https://www.python.org/dev/peps/pep-0008/#imports\n",
    "\n",
    "Imports should be grouped in the following order:\n",
    "\n",
    "- standard library imports\n",
    "- related third party imports\n",
    "- local application/library specific imports\n",
    "\n",
    "You should put a blank line between each group of imports."
   ]
  },
  {
   "cell_type": "code",
   "execution_count": null,
   "metadata": {
    "collapsed": false,
    "deletable": true,
    "editable": true
   },
   "outputs": [],
   "source": [
    "from stats_and_plot import calculate_statistic_over_time\n",
    "\n",
    "# Saving for publication\n",
    "cmaps = [plt.cm.magma, plt.cm.rainbow]\n",
    "for ii, cmap in enumerate(cmaps):\n",
    "    fig, ax = plt.subplots(figsize=(10, 10), sharey=True)\n",
    "    plot_statistic_over_time(df, category, continent,\n",
    "                             cmap=cmap, ax=ax, legend=False)\n",
    "    labels = [ax.get_xticklabels(), ax.get_yticklabels(),\n",
    "              ax.yaxis.label, ax.xaxis.label, ax.title]\n",
    "    _ = plt.setp(labels, fontsize=30)\n",
    "#     ax.set_axis_off()\n",
    "    fig.savefig('fig_{}.png'.format(ii), transparent=True, bbox_inches='tight', dpi=300)"
   ]
  },
  {
   "cell_type": "markdown",
   "metadata": {
    "collapsed": true,
    "deletable": true,
    "editable": true
   },
   "source": [
    "Lets get some help on our new code:"
   ]
  },
  {
   "cell_type": "code",
   "execution_count": null,
   "metadata": {
    "collapsed": true,
    "deletable": true,
    "editable": true
   },
   "outputs": [],
   "source": [
    "calculate_statistic_over_time?"
   ]
  },
  {
   "cell_type": "code",
   "execution_count": null,
   "metadata": {
    "collapsed": false,
    "deletable": true,
    "editable": true
   },
   "outputs": [],
   "source": [
    "help(calculate_statistic_over_time)"
   ]
  },
  {
   "cell_type": "markdown",
   "metadata": {
    "deletable": true,
    "editable": true
   },
   "source": [
    "### Docstring"
   ]
  },
  {
   "cell_type": "markdown",
   "metadata": {
    "deletable": true,
    "editable": true
   },
   "source": [
    "Get details on DocStrings [here](https://www.python.org/dev/peps/pep-0257/)."
   ]
  },
  {
   "cell_type": "code",
   "execution_count": null,
   "metadata": {
    "collapsed": false,
    "deletable": true,
    "editable": true
   },
   "outputs": [],
   "source": [
    "\"\"\"Form a complex number.\n",
    "\n",
    "    Keyword arguments:\n",
    "    real -- the real part (default 0.0)\n",
    "    imag -- the imaginary part (default 0.0)\n",
    "    \"\"\""
   ]
  },
  {
   "cell_type": "code",
   "execution_count": null,
   "metadata": {
    "collapsed": false,
    "deletable": true,
    "editable": true
   },
   "outputs": [],
   "source": [
    "%%writefile stats_and_plot.py\n",
    "def calculate_statistic_over_time(data, category, continent, func=None):\n",
    "    \"\"\"\n",
    "    Calculate a statistic on the continent. The default statistic is numpys' mean.\n",
    "    \n",
    "    Keyword arguments:\n",
    "    data -- the dataframe data source\n",
    "    category -- the category to be summarized\n",
    "    continent -- the continent to be examined\n",
    "    func -- the function to be applied to the data (default numpy.mean)\n",
    "    \"\"\"\n",
    "    import numpy as np\n",
    "    import pandas as pd\n",
    "\n",
    "    if func is None:\n",
    "        func = np.mean\n",
    "        \n",
    "    # Create a mask that selects the continent of choice\n",
    "    mask_continent = data['continent'] == continent\n",
    "    data_continent = data[mask_continent]\n",
    "\n",
    "    # Loop through years and calculate the statistic of interest\n",
    "    years = data_continent['year'].unique()\n",
    "    summary = []\n",
    "    for year in years:\n",
    "        mask_year = data_continent['year'] == year\n",
    "        data_year = data_continent[mask_year]\n",
    "        value = func(data_year[category])\n",
    "        summary.append((continent, year, value))\n",
    "\n",
    "    # Turn the summary into a dataframe so that we can visualize easily\n",
    "    summary = pd.DataFrame(summary, columns=['continent', 'year', category])\n",
    "    return summary\n",
    "\n",
    "\n",
    "def plot_statistic_over_time(data, category, func=None, cmap=None, ax=None, legend=True, sort=True):\n",
    "    if ax is None:\n",
    "        fig, ax = plt.subplots()\n",
    "    if cmap is None:\n",
    "        cmap = plt.cm.viridis\n",
    "    \n",
    "    if sort is True:\n",
    "        # Sort the continents by the category of choice\n",
    "        mean_values = df.groupby('continent').mean()[category]\n",
    "        mean_values = mean_values.sort_values(ascending=False)\n",
    "        continents = mean_values.index.values\n",
    "    else:\n",
    "        continents = np.unique(df['continent'])\n",
    "    n_continents = len(continents)\n",
    "\n",
    "    # Loop through continents, calculate its stat, and add a line\n",
    "    for ii, continent in enumerate(continents):\n",
    "        this_color = cmap(float(ii / n_continents))\n",
    "        output = calculate_statistic_over_time(data, category, continent)\n",
    "        output.plot.line('year', category, ax=ax, label=continent,\n",
    "                         color=this_color)\n",
    "        if legend is True:\n",
    "            plt.legend(loc=(1.02, 0))\n",
    "        else:\n",
    "            ax.get_legend().set(visible=False)\n",
    "        ax.set(ylabel=category, xlabel='Year',\n",
    "               title='{} over time'.format(category))\n",
    "\n",
    "    plt.setp(ax.lines, lw=4, alpha=.4)\n",
    "    return ax"
   ]
  },
  {
   "cell_type": "markdown",
   "metadata": {
    "deletable": true,
    "editable": true
   },
   "source": [
    "# Lesson 5 <a id=\"lesson-5\"></a>\n",
    "---"
   ]
  },
  {
   "cell_type": "markdown",
   "metadata": {
    "deletable": true,
    "editable": true
   },
   "source": [
    "__Optional lesson__\n",
    "- Use asserts to test validity of function inputs and outputs\n"
   ]
  },
  {
   "cell_type": "markdown",
   "metadata": {
    "collapsed": true,
    "deletable": true,
    "editable": true
   },
   "source": [
    "### Python Testing"
   ]
  },
  {
   "cell_type": "code",
   "execution_count": null,
   "metadata": {
    "collapsed": true,
    "deletable": true,
    "editable": true
   },
   "outputs": [],
   "source": [
    "import pytest"
   ]
  },
  {
   "cell_type": "code",
   "execution_count": null,
   "metadata": {
    "collapsed": false,
    "deletable": true,
    "editable": true
   },
   "outputs": [],
   "source": [
    "# Check to see if pytest is installed:\n",
    "pytest.__version__"
   ]
  },
  {
   "cell_type": "code",
   "execution_count": null,
   "metadata": {
    "collapsed": true,
    "deletable": true,
    "editable": true
   },
   "outputs": [],
   "source": [
    "# content of test_sample.py\n",
    "def func(x):\n",
    "    return x + 1\n",
    "\n",
    "def test_answer():\n",
    "    assert func(3) == 5"
   ]
  },
  {
   "cell_type": "code",
   "execution_count": null,
   "metadata": {
    "collapsed": false,
    "deletable": true,
    "editable": true
   },
   "outputs": [],
   "source": [
    "!pytest"
   ]
  },
  {
   "cell_type": "code",
   "execution_count": null,
   "metadata": {
    "collapsed": false,
    "deletable": true,
    "editable": true
   },
   "outputs": [],
   "source": [
    "pytest.assert?"
   ]
  },
  {
   "cell_type": "markdown",
   "metadata": {
    "deletable": true,
    "editable": true
   },
   "source": [
    "## Python 3 Syntax"
   ]
  },
  {
   "cell_type": "markdown",
   "metadata": {
    "collapsed": true,
    "deletable": true,
    "editable": true
   },
   "source": [
    "A nice, very brief intro to the syntax of the Python 3 programming language can be viewed here:\n",
    "    \n",
    "https://learnxinyminutes.com/docs/python3/"
   ]
  }
 ],
 "metadata": {
  "anaconda-cloud": {},
  "kernelspec": {
   "display_name": "Python 3",
   "language": "python",
   "name": "python3"
  },
  "language_info": {
   "codemirror_mode": {
    "name": "ipython",
    "version": 3
   },
   "file_extension": ".py",
   "mimetype": "text/x-python",
   "name": "python",
   "nbconvert_exporter": "python",
   "pygments_lexer": "ipython3",
   "version": "3.6.0"
  }
 },
 "nbformat": 4,
 "nbformat_minor": 1
}
