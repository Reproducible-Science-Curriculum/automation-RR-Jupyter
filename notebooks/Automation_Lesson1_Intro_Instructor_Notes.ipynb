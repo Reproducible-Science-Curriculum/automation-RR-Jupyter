{
 "cells": [
  {
   "cell_type": "markdown",
   "metadata": {},
   "source": [
    "## Why automate your work flow, and how to approach the process"
   ]
  },
  {
   "cell_type": "markdown",
   "metadata": {},
   "source": [
    "**Questions for students to consider:**\n",
    "\n",
    "1) In the data exploration section you made some plots from your data. What if you want to look at other relationships? \n",
    "\n",
    "2) Are there computational processes you do often? How do you implement these? \n",
    "\n",
    "3) Do you have a clear workflow you could replicate from data to conclusions?\n",
    "\n",
    "4) Could you plug this new data set into your old workflow? "
   ]
  },
  {
   "cell_type": "markdown",
   "metadata": {},
   "source": [
    "## Level of Python / Jupiter Automation"
   ]
  },
  {
   "cell_type": "markdown",
   "metadata": {},
   "source": [
    "1. __Good__ - Documenting all analysis steps in enough details that will enable them to be reproduced successfully.\n",
    "2. __Better__ - Script your analysis\n",
    "3. __Best__ - Script your analysis and write tests to validate each step."
   ]
  },
  {
   "cell_type": "markdown",
   "metadata": {},
   "source": [
    "### Key takehomes:\n",
    "    - Code is read much more often that it is written\n",
    "    - You are NEVER finshed with an analysis (drafts, reviewer comments, new data etc.) \n",
    "         Make your own future life easy!\n",
    "    - Repeating yourself creates opportunity for mistakes"
   ]
  },
  {
   "cell_type": "markdown",
   "metadata": {},
   "source": [
    "---"
   ]
  },
  {
   "cell_type": "markdown",
   "metadata": {},
   "source": [
    "## Learning Objectives of Automation Module:"
   ]
  },
  {
   "cell_type": "markdown",
   "metadata": {},
   "source": [
    "### [Lesson 1](#lesson-1) (10-15 min)\n",
    "- Employ best practices of naming a variable including: don’t use existing function names, avoid periods in names, don’t use numbers at the beginning of a variable name.\n",
    "- Defensive programming: catch errors instead of just fixing them.\n",
    "\n",
    "### [Lesson 2](#lesson-2) (10-15 min)\n",
    "- Define \"Don't Repeat Yourself\" (DRY) and provide examples of how you would implement DRY in your code\n",
    "- Identify code that can be modularized following DRY and implement a modular workflow using functions.\n",
    "\n",
    "### [Lesson 3](#lesson-3) (60 min)\n",
    "- Know how to construct a function: variables, function name, syntax, documentation, return values\n",
    "- Demonstrate use of function within the notebook / code. \n",
    "- Construct and compose function documentation that clearly defines inputs, output variables and behaviour.\n",
    "\n"
   ]
  },
  {
   "cell_type": "markdown",
   "metadata": {},
   "source": [
    "__Basic Overview of the suggested workflow using Socrative (Optional)__"
   ]
  },
  {
   "cell_type": "markdown",
   "metadata": {
    "collapsed": true
   },
   "source": [
    "- Use Socrative quiz to collect answers from student activities (students can run their code in their notebooks, and post to socrative). This will allow the instructor to see what solutions students came up with, and identify any places where misconceptions and confusion are coming up. Using Socrative quizes also allows for a record of the student work to be analyzed after class to see how students are learning and where they are having troubles.\n",
    "- sharing of prepared Socrative Quizes designed to be used with the automation module can be shared by URL links to each teacher so they do not have to be remade."
   ]
  },
  {
   "cell_type": "markdown",
   "metadata": {},
   "source": [
    "---"
   ]
  },
  {
   "cell_type": "markdown",
   "metadata": {},
   "source": [
    "### Setup"
   ]
  },
  {
   "cell_type": "markdown",
   "metadata": {},
   "source": [
    "__Please download the cleaned data file:__\n",
    "\n",
    "https://raw.githubusercontent.com/Reproducible-Science-Curriculum/automation-RR-Jupyter/gh-pages/notebooks/gapminder_cleaned.csv\n",
    "\n",
    "---"
   ]
  },
  {
   "cell_type": "markdown",
   "metadata": {},
   "source": [
    "# Lesson 1 <a id=\"lesson-1\"></a>\n",
    "---"
   ]
  },
  {
   "cell_type": "markdown",
   "metadata": {},
   "source": [
    "Lets begin by creating a new Jupyter notebook.\n",
    "\n",
    "__Question:__ \n",
    "\n",
    "- Accounding to the organization we setup where should we put this notebook?"
   ]
  },
  {
   "cell_type": "markdown",
   "metadata": {},
   "source": [
    "## Review of good variable practices\n",
    "**Learning Objective: ** Employ best practices of naming a variable including: don’t use existing function names, avoid periods in names, don’t use numbers at the beginning of a variable name\n",
    "\n",
    "### Types of variables:\n",
    "- strings, integers, etc..\n",
    "\n",
    "References:\n",
    "- PEP8 - Style Guide for Python Code  - https://www.python.org/dev/peps/pep-0008/ \n",
    "- https://www.tutorialspoint.com/python3/python_variable_types.htm\n",
    "\n",
    "### Keep in mind that code is read many more times then it is written!"
   ]
  },
  {
   "cell_type": "markdown",
   "metadata": {},
   "source": [
    "## Naming conventions that should be followed\n",
    "**Rules**\n"
   ]
  },
  {
   "cell_type": "code",
   "execution_count": 1,
   "metadata": {},
   "outputs": [
    {
     "name": "stdout",
     "output_type": "stream",
     "text": [
      "2928.0\n",
      "AsiaAsia\n",
      "['Asia', 'Africa', 'Europe']\n"
     ]
    }
   ],
   "source": [
    "# write out three variables, assign a number, string, list \n",
    "x = 'Asia' # String\n",
    "y = 1952  # an integer\n",
    "z = 1.5 # a floating point number\n",
    "\n",
    "cal_1 = y * z\n",
    "print(cal_1)\n",
    "\n",
    "# or\n",
    "x, y = 'Asia', 'Africa'\n",
    "w = x\n",
    "w = x + x #concatinating strings (combinging strings)\n",
    "print(w)\n",
    "\n",
    "h = 'Africa'\n",
    "\n",
    "list_1 = ['Asia', 'Africa', 'Europe'] # list\n",
    "print(list_1)"
   ]
  },
  {
   "cell_type": "markdown",
   "metadata": {
    "collapsed": true
   },
   "source": [
    "__Questions for students:__\n",
    "1. what do you think will happen with this code? x * z\n",
    "1. what do you think will happen with this code? list_1[0]\n",
    "1. what do you think will happen with this code? list_1[1:2]"
   ]
  },
  {
   "cell_type": "markdown",
   "metadata": {},
   "source": [
    "## Lists and Indexing"
   ]
  },
  {
   "cell_type": "markdown",
   "metadata": {},
   "source": [
    "Python indexing is from 0 to length of list - 1\n",
    "\n",
    "**Example:** \n",
    "\n",
    "    list_1 = ['Asia', 'Africa', 'Europe']\n",
    "\n",
    "Asia index = 0, \n",
    "Africa index = 1,  \n",
    "Europe index = 2"
   ]
  },
  {
   "cell_type": "markdown",
   "metadata": {},
   "source": [
    "*list_1* is not a very descriptive and identifiable variable.\n",
    "\n",
    "What would be a better name for the variable that holds these values?"
   ]
  },
  {
   "cell_type": "code",
   "execution_count": 2,
   "metadata": {},
   "outputs": [],
   "source": [
    "countries = ['Asia', 'Africa', 'Europe'] "
   ]
  },
  {
   "cell_type": "markdown",
   "metadata": {},
   "source": [
    "## Scope of Variables"
   ]
  },
  {
   "cell_type": "markdown",
   "metadata": {},
   "source": [
    "###  Global variables \n",
    "Global variables are available in the environment your script is working in. Every variable we have made at this point is a global variable.\n",
    "\n",
    "###  Local variables \n",
    "Local variables will be useful to understand when we start using functions in the automation of our code. Local variables only exist in the function environment, not the global environment your linear workflow code is. "
   ]
  },
  {
   "cell_type": "markdown",
   "metadata": {},
   "source": [
    "## Other useful conventions with variables to follow\n",
    "1. Set-up variables at the begining of your page, after importing libraries\n",
    "2. use variables instead of file names, or exact values or strings so that if you need to change the value of something you don't have to search through all your code to make sure you made the change everywhere, simply change the value of the variable at the top. -- This will also make your code more reproducible in the end. "
   ]
  },
  {
   "cell_type": "markdown",
   "metadata": {},
   "source": [
    "See what variants exist in the Jupyter notebook:\n",
    "    \n",
    "    %who"
   ]
  },
  {
   "cell_type": "code",
   "execution_count": 3,
   "metadata": {},
   "outputs": [
    {
     "name": "stdout",
     "output_type": "stream",
     "text": [
      "cal_1\t countries\t h\t list_1\t w\t x\t y\t z\t \n"
     ]
    }
   ],
   "source": [
    "%who"
   ]
  },
  {
   "cell_type": "markdown",
   "metadata": {},
   "source": [
    "## Let's Get Started"
   ]
  },
  {
   "cell_type": "markdown",
   "metadata": {},
   "source": [
    "To get started we will import the python modules that we will use in the session. These modules are developed by programmers and made available as open source packages for python. We would normally have to install each of these ourself but they are included as part of the [Anaconda Python Distribution](https://www.continuum.io/downloads).\n",
    "\n",
    "The _%matplotlib inline_ statement is part of the Jupyter and IPython magic that enables plaots generated by the matplotlib package to be discplayed as output in the Jupyter Notebook instead of open in a separate window."
   ]
  },
  {
   "cell_type": "code",
   "execution_count": 2,
   "metadata": {},
   "outputs": [],
   "source": [
    "import numpy as np\n",
    "import pandas as pd\n",
    "import pylab as plt\n",
    "import matplotlib\n",
    "\n",
    "%matplotlib inline"
   ]
  },
  {
   "cell_type": "markdown",
   "metadata": {},
   "source": [
    "We will continue where the _data exploration_ module left off but importing the cleaned gapminder dataset and setting it equal to a new varaible named __df__ to denote that we have imported a _pandas_ dataframe.\n",
    "\n",
    "As validation that we have imported the data we will also look at the top five rows of data using the _head_ method of pandas."
   ]
  },
  {
   "cell_type": "markdown",
   "metadata": {},
   "source": [
    "# Defensive programming"
   ]
  },
  {
   "cell_type": "code",
   "execution_count": 23,
   "metadata": {},
   "outputs": [
    {
     "ename": "FileNotFoundError",
     "evalue": "File b'data/gapminder_cleaned.csv' does not exist",
     "output_type": "error",
     "traceback": [
      "\u001b[0;31m---------------------------------------------------------------------------\u001b[0m",
      "\u001b[0;31mFileNotFoundError\u001b[0m                         Traceback (most recent call last)",
      "\u001b[0;32m<ipython-input-23-bdd8684bfb1c>\u001b[0m in \u001b[0;36m<module>\u001b[0;34m()\u001b[0m\n\u001b[1;32m      1\u001b[0m \u001b[0mcleaned_data_location\u001b[0m \u001b[0;34m=\u001b[0m \u001b[0;34m'data/gapminder_cleaned.csv'\u001b[0m\u001b[0;34m\u001b[0m\u001b[0m\n\u001b[0;32m----> 2\u001b[0;31m \u001b[0mdf\u001b[0m \u001b[0;34m=\u001b[0m \u001b[0mpd\u001b[0m\u001b[0;34m.\u001b[0m\u001b[0mread_csv\u001b[0m\u001b[0;34m(\u001b[0m\u001b[0mcleaned_data_location\u001b[0m\u001b[0;34m)\u001b[0m\u001b[0;34m\u001b[0m\u001b[0m\n\u001b[0m\u001b[1;32m      3\u001b[0m \u001b[0mdf\u001b[0m\u001b[0;34m.\u001b[0m\u001b[0mhead\u001b[0m\u001b[0;34m(\u001b[0m\u001b[0;34m)\u001b[0m\u001b[0;34m\u001b[0m\u001b[0m\n",
      "\u001b[0;32m~/Desktop/carpentries/venv-jupyter/lib/python3.5/site-packages/pandas/io/parsers.py\u001b[0m in \u001b[0;36mparser_f\u001b[0;34m(filepath_or_buffer, sep, delimiter, header, names, index_col, usecols, squeeze, prefix, mangle_dupe_cols, dtype, engine, converters, true_values, false_values, skipinitialspace, skiprows, nrows, na_values, keep_default_na, na_filter, verbose, skip_blank_lines, parse_dates, infer_datetime_format, keep_date_col, date_parser, dayfirst, iterator, chunksize, compression, thousands, decimal, lineterminator, quotechar, quoting, escapechar, comment, encoding, dialect, tupleize_cols, error_bad_lines, warn_bad_lines, skipfooter, skip_footer, doublequote, delim_whitespace, as_recarray, compact_ints, use_unsigned, low_memory, buffer_lines, memory_map, float_precision)\u001b[0m\n\u001b[1;32m    707\u001b[0m                     skip_blank_lines=skip_blank_lines)\n\u001b[1;32m    708\u001b[0m \u001b[0;34m\u001b[0m\u001b[0m\n\u001b[0;32m--> 709\u001b[0;31m         \u001b[0;32mreturn\u001b[0m \u001b[0m_read\u001b[0m\u001b[0;34m(\u001b[0m\u001b[0mfilepath_or_buffer\u001b[0m\u001b[0;34m,\u001b[0m \u001b[0mkwds\u001b[0m\u001b[0;34m)\u001b[0m\u001b[0;34m\u001b[0m\u001b[0m\n\u001b[0m\u001b[1;32m    710\u001b[0m \u001b[0;34m\u001b[0m\u001b[0m\n\u001b[1;32m    711\u001b[0m     \u001b[0mparser_f\u001b[0m\u001b[0;34m.\u001b[0m\u001b[0m__name__\u001b[0m \u001b[0;34m=\u001b[0m \u001b[0mname\u001b[0m\u001b[0;34m\u001b[0m\u001b[0m\n",
      "\u001b[0;32m~/Desktop/carpentries/venv-jupyter/lib/python3.5/site-packages/pandas/io/parsers.py\u001b[0m in \u001b[0;36m_read\u001b[0;34m(filepath_or_buffer, kwds)\u001b[0m\n\u001b[1;32m    447\u001b[0m \u001b[0;34m\u001b[0m\u001b[0m\n\u001b[1;32m    448\u001b[0m     \u001b[0;31m# Create the parser.\u001b[0m\u001b[0;34m\u001b[0m\u001b[0;34m\u001b[0m\u001b[0m\n\u001b[0;32m--> 449\u001b[0;31m     \u001b[0mparser\u001b[0m \u001b[0;34m=\u001b[0m \u001b[0mTextFileReader\u001b[0m\u001b[0;34m(\u001b[0m\u001b[0mfilepath_or_buffer\u001b[0m\u001b[0;34m,\u001b[0m \u001b[0;34m**\u001b[0m\u001b[0mkwds\u001b[0m\u001b[0;34m)\u001b[0m\u001b[0;34m\u001b[0m\u001b[0m\n\u001b[0m\u001b[1;32m    450\u001b[0m \u001b[0;34m\u001b[0m\u001b[0m\n\u001b[1;32m    451\u001b[0m     \u001b[0;32mif\u001b[0m \u001b[0mchunksize\u001b[0m \u001b[0;32mor\u001b[0m \u001b[0miterator\u001b[0m\u001b[0;34m:\u001b[0m\u001b[0;34m\u001b[0m\u001b[0m\n",
      "\u001b[0;32m~/Desktop/carpentries/venv-jupyter/lib/python3.5/site-packages/pandas/io/parsers.py\u001b[0m in \u001b[0;36m__init__\u001b[0;34m(self, f, engine, **kwds)\u001b[0m\n\u001b[1;32m    816\u001b[0m             \u001b[0mself\u001b[0m\u001b[0;34m.\u001b[0m\u001b[0moptions\u001b[0m\u001b[0;34m[\u001b[0m\u001b[0;34m'has_index_names'\u001b[0m\u001b[0;34m]\u001b[0m \u001b[0;34m=\u001b[0m \u001b[0mkwds\u001b[0m\u001b[0;34m[\u001b[0m\u001b[0;34m'has_index_names'\u001b[0m\u001b[0;34m]\u001b[0m\u001b[0;34m\u001b[0m\u001b[0m\n\u001b[1;32m    817\u001b[0m \u001b[0;34m\u001b[0m\u001b[0m\n\u001b[0;32m--> 818\u001b[0;31m         \u001b[0mself\u001b[0m\u001b[0;34m.\u001b[0m\u001b[0m_make_engine\u001b[0m\u001b[0;34m(\u001b[0m\u001b[0mself\u001b[0m\u001b[0;34m.\u001b[0m\u001b[0mengine\u001b[0m\u001b[0;34m)\u001b[0m\u001b[0;34m\u001b[0m\u001b[0m\n\u001b[0m\u001b[1;32m    819\u001b[0m \u001b[0;34m\u001b[0m\u001b[0m\n\u001b[1;32m    820\u001b[0m     \u001b[0;32mdef\u001b[0m \u001b[0mclose\u001b[0m\u001b[0;34m(\u001b[0m\u001b[0mself\u001b[0m\u001b[0;34m)\u001b[0m\u001b[0;34m:\u001b[0m\u001b[0;34m\u001b[0m\u001b[0m\n",
      "\u001b[0;32m~/Desktop/carpentries/venv-jupyter/lib/python3.5/site-packages/pandas/io/parsers.py\u001b[0m in \u001b[0;36m_make_engine\u001b[0;34m(self, engine)\u001b[0m\n\u001b[1;32m   1047\u001b[0m     \u001b[0;32mdef\u001b[0m \u001b[0m_make_engine\u001b[0m\u001b[0;34m(\u001b[0m\u001b[0mself\u001b[0m\u001b[0;34m,\u001b[0m \u001b[0mengine\u001b[0m\u001b[0;34m=\u001b[0m\u001b[0;34m'c'\u001b[0m\u001b[0;34m)\u001b[0m\u001b[0;34m:\u001b[0m\u001b[0;34m\u001b[0m\u001b[0m\n\u001b[1;32m   1048\u001b[0m         \u001b[0;32mif\u001b[0m \u001b[0mengine\u001b[0m \u001b[0;34m==\u001b[0m \u001b[0;34m'c'\u001b[0m\u001b[0;34m:\u001b[0m\u001b[0;34m\u001b[0m\u001b[0m\n\u001b[0;32m-> 1049\u001b[0;31m             \u001b[0mself\u001b[0m\u001b[0;34m.\u001b[0m\u001b[0m_engine\u001b[0m \u001b[0;34m=\u001b[0m \u001b[0mCParserWrapper\u001b[0m\u001b[0;34m(\u001b[0m\u001b[0mself\u001b[0m\u001b[0;34m.\u001b[0m\u001b[0mf\u001b[0m\u001b[0;34m,\u001b[0m \u001b[0;34m**\u001b[0m\u001b[0mself\u001b[0m\u001b[0;34m.\u001b[0m\u001b[0moptions\u001b[0m\u001b[0;34m)\u001b[0m\u001b[0;34m\u001b[0m\u001b[0m\n\u001b[0m\u001b[1;32m   1050\u001b[0m         \u001b[0;32melse\u001b[0m\u001b[0;34m:\u001b[0m\u001b[0;34m\u001b[0m\u001b[0m\n\u001b[1;32m   1051\u001b[0m             \u001b[0;32mif\u001b[0m \u001b[0mengine\u001b[0m \u001b[0;34m==\u001b[0m \u001b[0;34m'python'\u001b[0m\u001b[0;34m:\u001b[0m\u001b[0;34m\u001b[0m\u001b[0m\n",
      "\u001b[0;32m~/Desktop/carpentries/venv-jupyter/lib/python3.5/site-packages/pandas/io/parsers.py\u001b[0m in \u001b[0;36m__init__\u001b[0;34m(self, src, **kwds)\u001b[0m\n\u001b[1;32m   1693\u001b[0m         \u001b[0mkwds\u001b[0m\u001b[0;34m[\u001b[0m\u001b[0;34m'allow_leading_cols'\u001b[0m\u001b[0;34m]\u001b[0m \u001b[0;34m=\u001b[0m \u001b[0mself\u001b[0m\u001b[0;34m.\u001b[0m\u001b[0mindex_col\u001b[0m \u001b[0;32mis\u001b[0m \u001b[0;32mnot\u001b[0m \u001b[0;32mFalse\u001b[0m\u001b[0;34m\u001b[0m\u001b[0m\n\u001b[1;32m   1694\u001b[0m \u001b[0;34m\u001b[0m\u001b[0m\n\u001b[0;32m-> 1695\u001b[0;31m         \u001b[0mself\u001b[0m\u001b[0;34m.\u001b[0m\u001b[0m_reader\u001b[0m \u001b[0;34m=\u001b[0m \u001b[0mparsers\u001b[0m\u001b[0;34m.\u001b[0m\u001b[0mTextReader\u001b[0m\u001b[0;34m(\u001b[0m\u001b[0msrc\u001b[0m\u001b[0;34m,\u001b[0m \u001b[0;34m**\u001b[0m\u001b[0mkwds\u001b[0m\u001b[0;34m)\u001b[0m\u001b[0;34m\u001b[0m\u001b[0m\n\u001b[0m\u001b[1;32m   1696\u001b[0m \u001b[0;34m\u001b[0m\u001b[0m\n\u001b[1;32m   1697\u001b[0m         \u001b[0;31m# XXX\u001b[0m\u001b[0;34m\u001b[0m\u001b[0;34m\u001b[0m\u001b[0m\n",
      "\u001b[0;32mpandas/_libs/parsers.pyx\u001b[0m in \u001b[0;36mpandas._libs.parsers.TextReader.__cinit__\u001b[0;34m()\u001b[0m\n",
      "\u001b[0;32mpandas/_libs/parsers.pyx\u001b[0m in \u001b[0;36mpandas._libs.parsers.TextReader._setup_parser_source\u001b[0;34m()\u001b[0m\n",
      "\u001b[0;31mFileNotFoundError\u001b[0m: File b'data/gapminder_cleaned.csv' does not exist"
     ]
    }
   ],
   "source": [
    "cleaned_data_location = 'data/gapminder_cleaned.csv'\n",
    "df = pd.read_csv(cleaned_data_location)\n",
    "df.head()"
   ]
  },
  {
   "cell_type": "markdown",
   "metadata": {},
   "source": [
    "Whooops! That doesn't look great. and we know that the file *does* exist. We just downloaded it!\n",
    "Lets do some defensive programming to prevent things from breaking"
   ]
  },
  {
   "cell_type": "markdown",
   "metadata": {},
   "source": [
    "Your most common collaborator is YOU, in the future. Including error handling and messages help your colleagues and students, but most importantly, YOU.\n"
   ]
  },
  {
   "cell_type": "code",
   "execution_count": 24,
   "metadata": {},
   "outputs": [
    {
     "name": "stdout",
     "output_type": "stream",
     "text": [
      "Couldn't find data file, check path? You tried data/gapminder_cleaned.csv\n"
     ]
    }
   ],
   "source": [
    "cleaned_data_location = 'data/gapminder_cleaned.csv'\n",
    "try:\n",
    "        df = pd.read_csv(cleaned_data_location)\n",
    "except FileNotFoundError:\n",
    "        print(\"Couldn't find data file, check path? You tried\", cleaned_data_location)"
   ]
  },
  {
   "cell_type": "markdown",
   "metadata": {},
   "source": [
    "Exercise: what do you need to fix to actually open that data file?"
   ]
  },
  {
   "cell_type": "code",
   "execution_count": 26,
   "metadata": {},
   "outputs": [],
   "source": [
    "cleaned_data_location = '../data/gapminder_cleaned.csv'\n",
    "try:\n",
    "        df = pd.read_csv(cleaned_data_location)\n",
    "except FileNotFoundError:\n",
    "        print(\"Couldn't find data file, check path? You tried\", cleaned_data_location)"
   ]
  },
  {
   "cell_type": "markdown",
   "metadata": {},
   "source": [
    "You can use global flags to control how much you want to see"
   ]
  },
  {
   "cell_type": "markdown",
   "metadata": {},
   "source": [
    "we can set a flag at the top of our script to set how much infomation we want to see.\n",
    "e.g. VERBOSE"
   ]
  },
  {
   "cell_type": "code",
   "execution_count": 27,
   "metadata": {},
   "outputs": [],
   "source": [
    "VERBOSE = 1"
   ]
  },
  {
   "cell_type": "code",
   "execution_count": 33,
   "metadata": {},
   "outputs": [
    {
     "name": "stdout",
     "output_type": "stream",
     "text": [
      "   year       pop  lifeexp   gdppercap      country continent\n",
      "0  1952   8425333   28.801  779.445314  afghanistan      asia\n",
      "1  1957   9240934   30.332  820.853030  afghanistan      asia\n",
      "2  1962  10267083   31.997  853.100710  afghanistan      asia\n",
      "3  1967  11537966   34.020  836.197138  afghanistan      asia\n",
      "4  1972  13079460   36.088  739.981106  afghanistan      asia\n"
     ]
    }
   ],
   "source": [
    "try:\n",
    "        df = pd.read_csv(cleaned_data_location)\n",
    "        if VERBOSE:\n",
    "            print(df.head())\n",
    "except FileNotFoundError:\n",
    "        print(\"Couldn't find data file, check path? You tried\", cleaned_data_location)\n"
   ]
  },
  {
   "cell_type": "code",
   "execution_count": 22,
   "metadata": {},
   "outputs": [],
   "source": [
    "years = df['year'].unique()\n",
    "years.sort()\n",
    "assert years[-1]==2007\n"
   ]
  },
  {
   "cell_type": "markdown",
   "metadata": {
    "collapsed": true
   },
   "source": [
    "# Lesson 2 (10-15 min)<a id=\"lesson-2\"></a>\n",
    "---"
   ]
  },
  {
   "cell_type": "markdown",
   "metadata": {
    "collapsed": true
   },
   "source": [
    "__Learning Objectives__\n",
    "- Define \"Don't Repeat Yourself\" (DRY) and provide examples of how you would implement DRY in your code\n",
    "- Identify code that can be modularized following DRY and implement a modular workflow using functions."
   ]
  },
  {
   "cell_type": "markdown",
   "metadata": {
    "collapsed": true
   },
   "source": [
    "As you write software there comes a time when you are going to encounter a situation where you want to do the same analysis step as you have already done in your analysis. Our natural tendancy is the copy the code that we wrote and paste it into teh new location for reuse.  Sounds easy, right. Copy, paste, move on...not so fast.\n",
    "\n",
    "What happens if there is a problem with the code or you decide to tweak it, just a little, to change a format or enahce it?\n",
    "\n",
    "You wil have to change the code in every place you ahve copied it. How do you know if you got _all_ of the copies? What happens if one of the copies is _not_ changed?\n",
    "\n",
    "These examples illustrate the principle of \"Don't Repeat Yourself\". We are going to look at how to __refactor__ our code and pull pieces out by making them functions. They we will __call__ the function everytime we want to use that code."
   ]
  },
  {
   "cell_type": "markdown",
   "metadata": {},
   "source": [
    "# What if we want to ask questions about variables over time?\n",
    "## Lets start with mean life expectancy in Asia"
   ]
  },
  {
   "cell_type": "code",
   "execution_count": 60,
   "metadata": {},
   "outputs": [],
   "source": [
    "# Define which continent / category we will use\n",
    "category = 'lifeexp'\n",
    "continent = 'asia'"
   ]
  },
  {
   "cell_type": "code",
   "execution_count": 61,
   "metadata": {},
   "outputs": [],
   "source": [
    "# Create a mask that selects the continent of choice\n",
    "mask_continent = df['continent'] == continent\n",
    "df_continent = df[mask_continent]"
   ]
  },
  {
   "cell_type": "code",
   "execution_count": 62,
   "metadata": {},
   "outputs": [],
   "source": [
    "# Loop through years and calculate the statistic of interest\n",
    "# In this\n",
    "years = df_continent['year'].unique()\n",
    "summary = []\n",
    "\n",
    "for year in years:\n",
    "    mask_year = df_continent['year'] == year\n",
    "    df_year = df_continent[mask_year]\n",
    "    value = np.mean(df_year[category])\n",
    "    summary.append((continent, year, value))\n",
    "    \n",
    "# Turn the summary into a dataframe so that we can visualize easily\n",
    "summary = pd.DataFrame(summary, columns=['continent', 'year', category])"
   ]
  },
  {
   "cell_type": "code",
   "execution_count": 63,
   "metadata": {},
   "outputs": [
    {
     "data": {
      "text/plain": [
       "<matplotlib.axes._subplots.AxesSubplot at 0x7feea92c6128>"
      ]
     },
     "execution_count": 63,
     "metadata": {},
     "output_type": "execute_result"
    },
    {
     "data": {
      "image/png": "[encoded data removed]",
      "text/plain": [
       "<matplotlib.figure.Figure at 0x7feea9265a90>"
      ]
     },
     "metadata": {},
     "output_type": "display_data"
    }
   ],
   "source": [
    "summary.plot.line('year', 'lifeexp')"
   ]
  },
  {
   "cell_type": "markdown",
   "metadata": {},
   "source": [
    "# Lesson 3 <a id=\"lesson-3\"></a>\n",
    "---"
   ]
  },
  {
   "cell_type": "markdown",
   "metadata": {},
   "source": [
    "__Learning Objectives__\n",
    "- Know how to construct a function: variables, function name, syntax, documentation, return values\n",
    "- Demonstrate use of function within the notebook / code.\n",
    "- Construct and compose function documentation that clearly defines inputs, output "
   ]
  },
  {
   "cell_type": "code",
   "execution_count": 64,
   "metadata": {},
   "outputs": [],
   "source": [
    "def calculate_mean_over_time(data, category, continent):\n",
    "    \n",
    "    # Create a mask that selects the continent of choice\n",
    "    mask_continent = data['continent'] == continent\n",
    "    data_continent = data[mask_continent]\n",
    "\n",
    "    # Loop through years and calculate the statistic of interest\n",
    "    years = data_continent['year'].unique()\n",
    "    summary = []\n",
    "    for year in years:\n",
    "        mask_year = data_continent['year'] == year\n",
    "        data_year = data_continent[mask_year]\n",
    "        value = np.mean(data_year[category])\n",
    "        summary.append((continent, year, value))\n",
    "\n",
    "    # Turn the summary into a dataframe so that we can visualize easily\n",
    "    summary = pd.DataFrame(summary, columns=['continent', 'year', category])\n",
    "    return summary"
   ]
  },
  {
   "cell_type": "code",
   "execution_count": 65,
   "metadata": {},
   "outputs": [
    {
     "data": {
      "text/html": [
       "<div>\n",
       "<style scoped>\n",
       "    .dataframe tbody tr th:only-of-type {\n",
       "        vertical-align: middle;\n",
       "    }\n",
       "\n",
       "    .dataframe tbody tr th {\n",
       "        vertical-align: top;\n",
       "    }\n",
       "\n",
       "    .dataframe thead th {\n",
       "        text-align: right;\n",
       "    }\n",
       "</style>\n",
       "<table border=\"1\" class=\"dataframe\">\n",
       "  <thead>\n",
       "    <tr style=\"text-align: right;\">\n",
       "      <th></th>\n",
       "      <th>continent</th>\n",
       "      <th>year</th>\n",
       "      <th>lifeexp</th>\n",
       "    </tr>\n",
       "  </thead>\n",
       "  <tbody>\n",
       "    <tr>\n",
       "      <th>0</th>\n",
       "      <td>asia</td>\n",
       "      <td>1952</td>\n",
       "      <td>46.314394</td>\n",
       "    </tr>\n",
       "    <tr>\n",
       "      <th>1</th>\n",
       "      <td>asia</td>\n",
       "      <td>1957</td>\n",
       "      <td>49.318544</td>\n",
       "    </tr>\n",
       "    <tr>\n",
       "      <th>2</th>\n",
       "      <td>asia</td>\n",
       "      <td>1962</td>\n",
       "      <td>51.563223</td>\n",
       "    </tr>\n",
       "    <tr>\n",
       "      <th>3</th>\n",
       "      <td>asia</td>\n",
       "      <td>1967</td>\n",
       "      <td>54.663640</td>\n",
       "    </tr>\n",
       "    <tr>\n",
       "      <th>4</th>\n",
       "      <td>asia</td>\n",
       "      <td>1972</td>\n",
       "      <td>57.319269</td>\n",
       "    </tr>\n",
       "    <tr>\n",
       "      <th>5</th>\n",
       "      <td>asia</td>\n",
       "      <td>1977</td>\n",
       "      <td>59.610556</td>\n",
       "    </tr>\n",
       "    <tr>\n",
       "      <th>6</th>\n",
       "      <td>asia</td>\n",
       "      <td>1982</td>\n",
       "      <td>62.617939</td>\n",
       "    </tr>\n",
       "    <tr>\n",
       "      <th>7</th>\n",
       "      <td>asia</td>\n",
       "      <td>1987</td>\n",
       "      <td>64.851182</td>\n",
       "    </tr>\n",
       "    <tr>\n",
       "      <th>8</th>\n",
       "      <td>asia</td>\n",
       "      <td>1992</td>\n",
       "      <td>66.537212</td>\n",
       "    </tr>\n",
       "    <tr>\n",
       "      <th>9</th>\n",
       "      <td>asia</td>\n",
       "      <td>1997</td>\n",
       "      <td>68.020515</td>\n",
       "    </tr>\n",
       "    <tr>\n",
       "      <th>10</th>\n",
       "      <td>asia</td>\n",
       "      <td>2002</td>\n",
       "      <td>69.233879</td>\n",
       "    </tr>\n",
       "    <tr>\n",
       "      <th>11</th>\n",
       "      <td>asia</td>\n",
       "      <td>2007</td>\n",
       "      <td>70.728485</td>\n",
       "    </tr>\n",
       "  </tbody>\n",
       "</table>\n",
       "</div>"
      ],
      "text/plain": [
       "   continent  year    lifeexp\n",
       "0       asia  1952  46.314394\n",
       "1       asia  1957  49.318544\n",
       "2       asia  1962  51.563223\n",
       "3       asia  1967  54.663640\n",
       "4       asia  1972  57.319269\n",
       "5       asia  1977  59.610556\n",
       "6       asia  1982  62.617939\n",
       "7       asia  1987  64.851182\n",
       "8       asia  1992  66.537212\n",
       "9       asia  1997  68.020515\n",
       "10      asia  2002  69.233879\n",
       "11      asia  2007  70.728485"
      ]
     },
     "execution_count": 65,
     "metadata": {},
     "output_type": "execute_result"
    }
   ],
   "source": [
    "calculate_mean_over_time(df, \"lifeexp\", \"asia\")"
   ]
  },
  {
   "cell_type": "markdown",
   "metadata": {},
   "source": [
    "# Activity:\n",
    "    How would you make a function to calculate the median through time?\n",
    "    (Hint: focus on DRY)"
   ]
  },
  {
   "cell_type": "code",
   "execution_count": 66,
   "metadata": {},
   "outputs": [],
   "source": [
    "def calculate_statistic_over_time(data, category, continent, func):\n",
    "    \n",
    "    # Create a mask that selects the continent of choice\n",
    "    mask_continent = data['continent'] == continent\n",
    "    data_continent = data[mask_continent]\n",
    "\n",
    "    # Loop through years and calculate the statistic of interest\n",
    "    years = data_continent['year'].unique()\n",
    "    summary = []\n",
    "    for year in years:\n",
    "        mask_year = data_continent['year'] == year\n",
    "        data_year = data_continent[mask_year]\n",
    "        value = func(data_year[category])\n",
    "        summary.append((continent, year, value))\n",
    "\n",
    "    # Turn the summary into a dataframe so that we can visualize easily\n",
    "    summary = pd.DataFrame(summary, columns=['continent', 'year', category])\n",
    "    return summary"
   ]
  },
  {
   "cell_type": "code",
   "execution_count": 67,
   "metadata": {},
   "outputs": [
    {
     "data": {
      "text/html": [
       "<div>\n",
       "<style scoped>\n",
       "    .dataframe tbody tr th:only-of-type {\n",
       "        vertical-align: middle;\n",
       "    }\n",
       "\n",
       "    .dataframe tbody tr th {\n",
       "        vertical-align: top;\n",
       "    }\n",
       "\n",
       "    .dataframe thead th {\n",
       "        text-align: right;\n",
       "    }\n",
       "</style>\n",
       "<table border=\"1\" class=\"dataframe\">\n",
       "  <thead>\n",
       "    <tr style=\"text-align: right;\">\n",
       "      <th></th>\n",
       "      <th>continent</th>\n",
       "      <th>year</th>\n",
       "      <th>lifeexp</th>\n",
       "    </tr>\n",
       "  </thead>\n",
       "  <tbody>\n",
       "    <tr>\n",
       "      <th>0</th>\n",
       "      <td>asia</td>\n",
       "      <td>1952</td>\n",
       "      <td>44.869</td>\n",
       "    </tr>\n",
       "    <tr>\n",
       "      <th>1</th>\n",
       "      <td>asia</td>\n",
       "      <td>1957</td>\n",
       "      <td>48.284</td>\n",
       "    </tr>\n",
       "    <tr>\n",
       "      <th>2</th>\n",
       "      <td>asia</td>\n",
       "      <td>1962</td>\n",
       "      <td>49.325</td>\n",
       "    </tr>\n",
       "    <tr>\n",
       "      <th>3</th>\n",
       "      <td>asia</td>\n",
       "      <td>1967</td>\n",
       "      <td>53.655</td>\n",
       "    </tr>\n",
       "    <tr>\n",
       "      <th>4</th>\n",
       "      <td>asia</td>\n",
       "      <td>1972</td>\n",
       "      <td>56.950</td>\n",
       "    </tr>\n",
       "    <tr>\n",
       "      <th>5</th>\n",
       "      <td>asia</td>\n",
       "      <td>1977</td>\n",
       "      <td>60.765</td>\n",
       "    </tr>\n",
       "    <tr>\n",
       "      <th>6</th>\n",
       "      <td>asia</td>\n",
       "      <td>1982</td>\n",
       "      <td>63.739</td>\n",
       "    </tr>\n",
       "    <tr>\n",
       "      <th>7</th>\n",
       "      <td>asia</td>\n",
       "      <td>1987</td>\n",
       "      <td>66.295</td>\n",
       "    </tr>\n",
       "    <tr>\n",
       "      <th>8</th>\n",
       "      <td>asia</td>\n",
       "      <td>1992</td>\n",
       "      <td>68.690</td>\n",
       "    </tr>\n",
       "    <tr>\n",
       "      <th>9</th>\n",
       "      <td>asia</td>\n",
       "      <td>1997</td>\n",
       "      <td>70.265</td>\n",
       "    </tr>\n",
       "    <tr>\n",
       "      <th>10</th>\n",
       "      <td>asia</td>\n",
       "      <td>2002</td>\n",
       "      <td>71.028</td>\n",
       "    </tr>\n",
       "    <tr>\n",
       "      <th>11</th>\n",
       "      <td>asia</td>\n",
       "      <td>2007</td>\n",
       "      <td>72.396</td>\n",
       "    </tr>\n",
       "  </tbody>\n",
       "</table>\n",
       "</div>"
      ],
      "text/plain": [
       "   continent  year  lifeexp\n",
       "0       asia  1952   44.869\n",
       "1       asia  1957   48.284\n",
       "2       asia  1962   49.325\n",
       "3       asia  1967   53.655\n",
       "4       asia  1972   56.950\n",
       "5       asia  1977   60.765\n",
       "6       asia  1982   63.739\n",
       "7       asia  1987   66.295\n",
       "8       asia  1992   68.690\n",
       "9       asia  1997   70.265\n",
       "10      asia  2002   71.028\n",
       "11      asia  2007   72.396"
      ]
     },
     "execution_count": 67,
     "metadata": {},
     "output_type": "execute_result"
    }
   ],
   "source": [
    "calculate_statistic_over_time(df, \"lifeexp\", \"asia\", np.median)"
   ]
  },
  {
   "cell_type": "code",
   "execution_count": 68,
   "metadata": {},
   "outputs": [],
   "source": [
    "def calculate_statistic_over_time(data, category, continent, func):\n",
    "    \"\"\"calculate values of a statistic through time\n",
    "\n",
    "    Args:\n",
    "        data: a data frame\n",
    "        category: one of the column headers of the data frame (e.g. 'lifeexp')\n",
    "        continent: possible value of the continent column of that data frame (e.g. 'asia')\n",
    "        func: the funtion to apply to data values (e.g. np.mean)\n",
    "        \n",
    "    Returns:\n",
    "        a summary table of value per year.\n",
    "\n",
    "    \"\"\"\n",
    "    \n",
    "    # Create a mask that selects the continent of choice\n",
    "    mask_continent = data['continent'] == continent\n",
    "    data_continent = data[mask_continent]\n",
    "\n",
    "    # Loop through years and calculate the statistic of interest\n",
    "    years = data_continent['year'].unique()\n",
    "    summary = []\n",
    "    for year in years:\n",
    "        mask_year = data_continent['year'] == year\n",
    "        data_year = data_continent[mask_year]\n",
    "        value = func(data_year[category])\n",
    "        summary.append((continent, year, value))\n",
    "\n",
    "    # Turn the summary into a dataframe so that we can visualize easily\n",
    "    summary = pd.DataFrame(summary, columns=['continent', 'year', category])\n",
    "    return summary"
   ]
  },
  {
   "cell_type": "markdown",
   "metadata": {},
   "source": [
    "# Defensive programming activity\n",
    "How would you check to make sure input values are reasonable?\n",
    "Use assertions or try-except statements, and add options with the VERBOSE flag"
   ]
  },
  {
   "cell_type": "code",
   "execution_count": 95,
   "metadata": {},
   "outputs": [],
   "source": [
    "def calculate_statistic_over_time(data, category, continent, func):\n",
    "    \"\"\"calculate values of a statistic through time\n",
    "\n",
    "    Args:\n",
    "        data: a data frame\n",
    "        category: one of the column headers of the data frame (e.g. 'lifeexp')\n",
    "        continent: possible value of the continent column of that data frame (e.g. 'asia')\n",
    "        func: the funtion to apply to data values (e.g. np.mean)\n",
    "        \n",
    "    Returns:\n",
    "        a summary table of value per year.\n",
    "\n",
    "    \"\"\"\n",
    "    # Create a mask that selects the continent of choice\n",
    "    assert continent in data['continent'].unique()\n",
    "    mask_continent = data['continent'] == continent\n",
    "    data_continent = data[mask_continent]\n",
    "\n",
    "    # Loop through years and calculate the statistic of interest\n",
    "    years = data_continent['year'].unique()\n",
    "    if VERBOSE:\n",
    "        print(\"years include\", years)\n",
    "    summary = []\n",
    "    for year in years:\n",
    "        mask_year = data_continent['year'] == year\n",
    "        data_year = data_continent[mask_year]\n",
    "        value = func(data_year[category])\n",
    "        summary.append((continent, year, value))\n",
    "\n",
    "    # Turn the summary into a dataframe so that we can visualize easily\n",
    "    summary = pd.DataFrame(summary, columns=['continent', 'year', category])\n",
    "    return summary"
   ]
  },
  {
   "cell_type": "code",
   "execution_count": 90,
   "metadata": {},
   "outputs": [],
   "source": [
    "import sys"
   ]
  },
  {
   "cell_type": "code",
   "execution_count": 96,
   "metadata": {},
   "outputs": [
    {
     "name": "stdout",
     "output_type": "stream",
     "text": [
      "years include [1952 1957 1962 1967 1972 1977 1982 1987 1992 1997 2002 2007]\n"
     ]
    },
    {
     "data": {
      "text/html": [
       "<div>\n",
       "<style scoped>\n",
       "    .dataframe tbody tr th:only-of-type {\n",
       "        vertical-align: middle;\n",
       "    }\n",
       "\n",
       "    .dataframe tbody tr th {\n",
       "        vertical-align: top;\n",
       "    }\n",
       "\n",
       "    .dataframe thead th {\n",
       "        text-align: right;\n",
       "    }\n",
       "</style>\n",
       "<table border=\"1\" class=\"dataframe\">\n",
       "  <thead>\n",
       "    <tr style=\"text-align: right;\">\n",
       "      <th></th>\n",
       "      <th>continent</th>\n",
       "      <th>year</th>\n",
       "      <th>lifeexp</th>\n",
       "    </tr>\n",
       "  </thead>\n",
       "  <tbody>\n",
       "    <tr>\n",
       "      <th>0</th>\n",
       "      <td>asia</td>\n",
       "      <td>1952</td>\n",
       "      <td>44.869</td>\n",
       "    </tr>\n",
       "    <tr>\n",
       "      <th>1</th>\n",
       "      <td>asia</td>\n",
       "      <td>1957</td>\n",
       "      <td>48.284</td>\n",
       "    </tr>\n",
       "    <tr>\n",
       "      <th>2</th>\n",
       "      <td>asia</td>\n",
       "      <td>1962</td>\n",
       "      <td>49.325</td>\n",
       "    </tr>\n",
       "    <tr>\n",
       "      <th>3</th>\n",
       "      <td>asia</td>\n",
       "      <td>1967</td>\n",
       "      <td>53.655</td>\n",
       "    </tr>\n",
       "    <tr>\n",
       "      <th>4</th>\n",
       "      <td>asia</td>\n",
       "      <td>1972</td>\n",
       "      <td>56.950</td>\n",
       "    </tr>\n",
       "    <tr>\n",
       "      <th>5</th>\n",
       "      <td>asia</td>\n",
       "      <td>1977</td>\n",
       "      <td>60.765</td>\n",
       "    </tr>\n",
       "    <tr>\n",
       "      <th>6</th>\n",
       "      <td>asia</td>\n",
       "      <td>1982</td>\n",
       "      <td>63.739</td>\n",
       "    </tr>\n",
       "    <tr>\n",
       "      <th>7</th>\n",
       "      <td>asia</td>\n",
       "      <td>1987</td>\n",
       "      <td>66.295</td>\n",
       "    </tr>\n",
       "    <tr>\n",
       "      <th>8</th>\n",
       "      <td>asia</td>\n",
       "      <td>1992</td>\n",
       "      <td>68.690</td>\n",
       "    </tr>\n",
       "    <tr>\n",
       "      <th>9</th>\n",
       "      <td>asia</td>\n",
       "      <td>1997</td>\n",
       "      <td>70.265</td>\n",
       "    </tr>\n",
       "    <tr>\n",
       "      <th>10</th>\n",
       "      <td>asia</td>\n",
       "      <td>2002</td>\n",
       "      <td>71.028</td>\n",
       "    </tr>\n",
       "    <tr>\n",
       "      <th>11</th>\n",
       "      <td>asia</td>\n",
       "      <td>2007</td>\n",
       "      <td>72.396</td>\n",
       "    </tr>\n",
       "  </tbody>\n",
       "</table>\n",
       "</div>"
      ],
      "text/plain": [
       "   continent  year  lifeexp\n",
       "0       asia  1952   44.869\n",
       "1       asia  1957   48.284\n",
       "2       asia  1962   49.325\n",
       "3       asia  1967   53.655\n",
       "4       asia  1972   56.950\n",
       "5       asia  1977   60.765\n",
       "6       asia  1982   63.739\n",
       "7       asia  1987   66.295\n",
       "8       asia  1992   68.690\n",
       "9       asia  1997   70.265\n",
       "10      asia  2002   71.028\n",
       "11      asia  2007   72.396"
      ]
     },
     "execution_count": 96,
     "metadata": {},
     "output_type": "execute_result"
    }
   ],
   "source": [
    "VERBOSE = 1\n",
    "calculate_statistic_over_time(df, \"lifeexp\", \"asia\", np.median)"
   ]
  },
  {
   "cell_type": "code",
   "execution_count": 46,
   "metadata": {},
   "outputs": [
    {
     "data": {
      "image/png": "[encoded data removed]",
      "text/plain": [
       "<matplotlib.figure.Figure at 0x7feea92fd828>"
      ]
     },
     "metadata": {},
     "output_type": "display_data"
    }
   ],
   "source": [
    "continents = df['continent'].unique()\n",
    "\n",
    "fig, ax = plt.subplots()\n",
    "for continent in continents:\n",
    "    output = calculate_statistic_over_time(df, category, continent, np.mean)\n",
    "    output.plot.line('year', category, ax=ax)"
   ]
  },
  {
   "cell_type": "code",
   "execution_count": 14,
   "metadata": {},
   "outputs": [
    {
     "data": {
      "text/plain": [
       "[None, None, None, None, None, None, None, None, None, None]"
      ]
     },
     "execution_count": 14,
     "metadata": {},
     "output_type": "execute_result"
    },
    {
     "data": {
      "image/png": "[encoded data removed]",
      "text/plain": [
       "<matplotlib.figure.Figure at 0x7fb5c043e9b0>"
      ]
     },
     "metadata": {},
     "output_type": "display_data"
    }
   ],
   "source": [
    "category = 'lifeexp'\n",
    "mean_values = df.groupby('continent').mean()[category]\n",
    "mean_values = mean_values.sort_values(ascending=False)\n",
    "continents = mean_values.index.values\n",
    "\n",
    "n_continents = len(continents)\n",
    "cmap = plt.cm.coolwarm_r\n",
    "\n",
    "fig, ax = plt.subplots()\n",
    "for ii, continent in enumerate(continents):\n",
    "    this_color = cmap(float(ii / n_continents))\n",
    "    output = calculate_statistic_over_time(df, category, continent)\n",
    "    output.plot.line('year', category, ax=ax, label=continent,\n",
    "                     color=this_color)\n",
    "    plt.legend(loc=(1.02, 0))\n",
    "    ax.set(ylabel=category, xlabel='Year',\n",
    "           title='{} over time'.format(category))\n",
    "    \n",
    "plt.setp(ax.lines, lw=4, alpha=.4)"
   ]
  },
  {
   "cell_type": "code",
   "execution_count": 1,
   "metadata": {},
   "outputs": [],
   "source": [
    "def plot_statistic_over_time(data, category, func=\"mean\",\n",
    "                             cmap=None, ax=None, legend=True,\n",
    "                             sort=True):\n",
    "    if ax is None:\n",
    "        fig, ax = plt.subplots()\n",
    "    if cmap is None:\n",
    "        cmap = plt.cm.viridis\n",
    "    if func == \"np.mean\":\n",
    "        func = np.mean\n",
    "        \n",
    "    \n",
    "    if sort is True:\n",
    "        # Sort the continents by the category of choice\n",
    "        mean_values = df.groupby('continent').mean()[category]\n",
    "        mean_values = mean_values.sort_values(ascending=False)\n",
    "        continents = mean_values.index.values\n",
    "    else:\n",
    "        continents = np.unique(df['continent'])\n",
    "    n_continents = len(continents)\n",
    "\n",
    "    # Loop through continents, calculate its stat, and add a line\n",
    "    for ii, continent in enumerate(continents):\n",
    "        this_color = cmap(float(ii / n_continents))\n",
    "        output = calculate_statistic_over_time(data, category, continent)\n",
    "        output.plot.line('year', category, ax=ax, label=continent,\n",
    "                         color=this_color)\n",
    "        if legend is True:\n",
    "            plt.legend(loc=(1.02, 0))\n",
    "        else:\n",
    "            ax.get_legend().set(visible=False)\n",
    "        ax.set(ylabel=category, xlabel='Year',\n",
    "               title='{} over time'.format(category))\n",
    "\n",
    "    plt.setp(ax.lines, lw=4, alpha=.4)\n",
    "    return ax"
   ]
  },
  {
   "cell_type": "code",
   "execution_count": 16,
   "metadata": {},
   "outputs": [
    {
     "data": {
      "text/plain": [
       "<matplotlib.axes._subplots.AxesSubplot at 0x7fb591aeb2b0>"
      ]
     },
     "execution_count": 16,
     "metadata": {},
     "output_type": "execute_result"
    },
    {
     "data": {
      "image/png": "[encoded data removed]",
      "text/plain": [
       "<matplotlib.figure.Figure at 0x7fb591af1ef0>"
      ]
     },
     "metadata": {},
     "output_type": "display_data"
    }
   ],
   "source": [
    "plot_statistic_over_time(df, category, cmap=plt.cm.coolwarm)"
   ]
  },
  {
   "cell_type": "code",
   "execution_count": null,
   "metadata": {},
   "outputs": [],
   "source": [
    "fig, axs = plt.subplots(1, 2, figsize=(10, 5))\n",
    "categories = ['pop', 'gdppercap']\n",
    "for ax, i_category in zip(axs, categories):\n",
    "    plot_statistic_over_time(df, i_category, continent,\n",
    "                             ax=ax, sort=False)\n",
    "plt.setp(axs[0].get_legend(), visible=False)\n",
    "plt.tight_layout()"
   ]
  },
  {
   "cell_type": "code",
   "execution_count": null,
   "metadata": {},
   "outputs": [],
   "source": [
    "fig, axs = plt.subplots(1, 2, figsize=(10, 5), sharey=True)\n",
    "cmaps = [plt.cm.viridis, plt.cm.coolwarm]\n",
    "for ax, cmap in zip(axs, cmaps):\n",
    "    plot_statistic_over_time(df, category, continent,\n",
    "                             cmap=cmap, ax=ax, legend=False)"
   ]
  },
  {
   "cell_type": "code",
   "execution_count": null,
   "metadata": {},
   "outputs": [],
   "source": [
    "ax = df.groupby(['continent', 'year']).mean()['lifeexp']\\\n",
    "       .unstack('continent').plot(cmap=plt.cm.viridis, alpha=.4, lw=3)"
   ]
  },
  {
   "cell_type": "markdown",
   "metadata": {},
   "source": [
    "# Lesson 4 <a id=\"lesson-4\"></a>\n",
    "---"
   ]
  },
  {
   "cell_type": "markdown",
   "metadata": {},
   "source": [
    "__Learning Objective__\n",
    "- Organize a set of functions within a python (.py) script and use it (import it into) in a Jupyter notebook."
   ]
  },
  {
   "cell_type": "markdown",
   "metadata": {},
   "source": [
    "Now we are going to cut and paste the functions that we have created above. We are going to save them to a single file so we will paste all of the code that we want in that file below. Additionally, we will use the Jupyter / IPython magic, specifically the magic command _writefile_ to save teh contents of the cell below to a file. The file name follows the _%%writefile_ command below.\n",
    "\n",
    "We are assuming that the notebook is in the project code directory and notebook subdirectory."
   ]
  },
  {
   "cell_type": "code",
   "execution_count": null,
   "metadata": {},
   "outputs": [],
   "source": [
    "%%writefile stats_and_plot.py\n",
    "def calculate_statistic_over_time(data, category, continent, func=None):\n",
    "    import numpy as np\n",
    "    import pandas as pd\n",
    "\n",
    "    if func is None:\n",
    "        func = np.mean\n",
    "        \n",
    "    # Create a mask that selects the continent of choice\n",
    "    mask_continent = data['continent'] == continent\n",
    "    data_continent = data[mask_continent]\n",
    "\n",
    "    # Loop through years and calculate the statistic of interest\n",
    "    years = data_continent['year'].unique()\n",
    "    summary = []\n",
    "    for year in years:\n",
    "        mask_year = data_continent['year'] == year\n",
    "        data_year = data_continent[mask_year]\n",
    "        value = func(data_year[category])\n",
    "        summary.append((continent, year, value))\n",
    "\n",
    "    # Turn the summary into a dataframe so that we can visualize easily\n",
    "    summary = pd.DataFrame(summary, columns=['continent', 'year', category])\n",
    "    return summary\n",
    "\n",
    "\n",
    "def plot_statistic_over_time(data, category, func=None, cmap=None, ax=None, legend=True, sort=True):\n",
    "    if ax is None:\n",
    "        fig, ax = plt.subplots()\n",
    "    if cmap is None:\n",
    "        cmap = plt.cm.viridis\n",
    "    \n",
    "    if sort is True:\n",
    "        # Sort the continents by the category of choice\n",
    "        mean_values = df.groupby('continent').mean()[category]\n",
    "        mean_values = mean_values.sort_values(ascending=False)\n",
    "        continents = mean_values.index.values\n",
    "    else:\n",
    "        continents = np.unique(df['continent'])\n",
    "    n_continents = len(continents)\n",
    "\n",
    "    # Loop through continents, calculate its stat, and add a line\n",
    "    for ii, continent in enumerate(continents):\n",
    "        this_color = cmap(float(ii / n_continents))\n",
    "        output = calculate_statistic_over_time(data, category, continent)\n",
    "        output.plot.line('year', category, ax=ax, label=continent,\n",
    "                         color=this_color)\n",
    "        if legend is True:\n",
    "            plt.legend(loc=(1.02, 0))\n",
    "        else:\n",
    "            ax.get_legend().set(visible=False)\n",
    "        ax.set(ylabel=category, xlabel='Year',\n",
    "               title='{} over time'.format(category))\n",
    "\n",
    "    plt.setp(ax.lines, lw=4, alpha=.4)\n",
    "    return ax"
   ]
  },
  {
   "cell_type": "markdown",
   "metadata": {},
   "source": [
    "If you would like to see the contents of your file you can type:\n",
    "    \n",
    "    %load stats_and_plot.py\n",
    "    \n",
    "    or try\n",
    "    \n",
    "    %pycat stats_and_plot.py"
   ]
  },
  {
   "cell_type": "code",
   "execution_count": null,
   "metadata": {},
   "outputs": [],
   "source": []
  },
  {
   "cell_type": "markdown",
   "metadata": {
    "collapsed": true
   },
   "source": [
    "## Imports\n",
    "\n",
    "**Some information on _imports_:**\n",
    "\n",
    "In order to use external code within python two things have to happen: 1) The code has to exist on you local computer and 2) we have to reference or import to code to use it in our program.\n",
    "\n",
    "The first requirement is satisfied when we install the softwre on our computer using _conda_ or _pip_. Or as we will see in a minute, we can create custom functions that we create. Secondly, we need to tell python how to access and refer to the packages or source code we want to use.\n",
    "\n",
    "**Import Guidelines**\n",
    "\n",
    "https://www.python.org/dev/peps/pep-0008/#imports\n",
    "\n",
    "Imports should be grouped in the following order:\n",
    "\n",
    "- standard library imports\n",
    "- related third party imports\n",
    "- local application/library specific imports\n",
    "\n",
    "You should put a blank line between each group of imports."
   ]
  },
  {
   "cell_type": "code",
   "execution_count": null,
   "metadata": {},
   "outputs": [],
   "source": [
    "from stats_and_plot import calculate_statistic_over_time\n",
    "\n",
    "# Saving for publication\n",
    "cmaps = [plt.cm.magma, plt.cm.rainbow]\n",
    "for ii, cmap in enumerate(cmaps):\n",
    "    fig, ax = plt.subplots(figsize=(10, 10), sharey=True)\n",
    "    plot_statistic_over_time(df, category, continent,\n",
    "                             cmap=cmap, ax=ax, legend=False)\n",
    "    labels = [ax.get_xticklabels(), ax.get_yticklabels(),\n",
    "              ax.yaxis.label, ax.xaxis.label, ax.title]\n",
    "    _ = plt.setp(labels, fontsize=30)\n",
    "#     ax.set_axis_off()\n",
    "    fig.savefig('fig_{}.png'.format(ii), transparent=True, bbox_inches='tight', dpi=300)"
   ]
  },
  {
   "cell_type": "markdown",
   "metadata": {
    "collapsed": true
   },
   "source": [
    "Lets get some help on our new code:"
   ]
  },
  {
   "cell_type": "code",
   "execution_count": null,
   "metadata": {
    "collapsed": true
   },
   "outputs": [],
   "source": [
    "calculate_statistic_over_time?"
   ]
  },
  {
   "cell_type": "code",
   "execution_count": null,
   "metadata": {},
   "outputs": [],
   "source": [
    "help(calculate_statistic_over_time)"
   ]
  },
  {
   "cell_type": "markdown",
   "metadata": {},
   "source": [
    "### Docstring"
   ]
  },
  {
   "cell_type": "markdown",
   "metadata": {},
   "source": [
    "Get details on DocStrings [here](https://www.python.org/dev/peps/pep-0257/)."
   ]
  },
  {
   "cell_type": "code",
   "execution_count": null,
   "metadata": {},
   "outputs": [],
   "source": [
    "\"\"\"Form a complex number.\n",
    "\n",
    "    Keyword arguments:\n",
    "    real -- the real part (default 0.0)\n",
    "    imag -- the imaginary part (default 0.0)\n",
    "    \"\"\""
   ]
  },
  {
   "cell_type": "code",
   "execution_count": null,
   "metadata": {},
   "outputs": [],
   "source": [
    "%%writefile stats_and_plot.py\n",
    "def calculate_statistic_over_time(data, category, continent, func=None):\n",
    "    \"\"\"\n",
    "    Calculate a statistic on the continent. The default statistic is numpys' mean.\n",
    "    \n",
    "    Keyword arguments:\n",
    "    data -- the dataframe data source\n",
    "    category -- the category to be summarized\n",
    "    continent -- the continent to be examined\n",
    "    func -- the function to be applied to the data (default numpy.mean)\n",
    "    \"\"\"\n",
    "    import numpy as np\n",
    "    import pandas as pd\n",
    "\n",
    "    if func is None:\n",
    "        func = np.mean\n",
    "        \n",
    "    # Create a mask that selects the continent of choice\n",
    "    mask_continent = data['continent'] == continent\n",
    "    data_continent = data[mask_continent]\n",
    "\n",
    "    # Loop through years and calculate the statistic of interest\n",
    "    years = data_continent['year'].unique()\n",
    "    summary = []\n",
    "    for year in years:\n",
    "        mask_year = data_continent['year'] == year\n",
    "        data_year = data_continent[mask_year]\n",
    "        value = func(data_year[category])\n",
    "        summary.append((continent, year, value))\n",
    "\n",
    "    # Turn the summary into a dataframe so that we can visualize easily\n",
    "    summary = pd.DataFrame(summary, columns=['continent', 'year', category])\n",
    "    return summary\n",
    "\n",
    "\n",
    "def plot_statistic_over_time(data, category, func=None, cmap=None, ax=None, legend=True, sort=True):\n",
    "    if ax is None:\n",
    "        fig, ax = plt.subplots()\n",
    "    if cmap is None:\n",
    "        cmap = plt.cm.viridis\n",
    "    \n",
    "    if sort is True:\n",
    "        # Sort the continents by the category of choice\n",
    "        mean_values = df.groupby('continent').mean()[category]\n",
    "        mean_values = mean_values.sort_values(ascending=False)\n",
    "        continents = mean_values.index.values\n",
    "    else:\n",
    "        continents = np.unique(df['continent'])\n",
    "    n_continents = len(continents)\n",
    "\n",
    "    # Loop through continents, calculate its stat, and add a line\n",
    "    for ii, continent in enumerate(continents):\n",
    "        this_color = cmap(float(ii / n_continents))\n",
    "        output = calculate_statistic_over_time(data, category, continent)\n",
    "        output.plot.line('year', category, ax=ax, label=continent,\n",
    "                         color=this_color)\n",
    "        if legend is True:\n",
    "            plt.legend(loc=(1.02, 0))\n",
    "        else:\n",
    "            ax.get_legend().set(visible=False)\n",
    "        ax.set(ylabel=category, xlabel='Year',\n",
    "               title='{} over time'.format(category))\n",
    "\n",
    "    plt.setp(ax.lines, lw=4, alpha=.4)\n",
    "    return ax"
   ]
  },
  {
   "cell_type": "markdown",
   "metadata": {},
   "source": [
    "# Lesson 5 <a id=\"lesson-5\"></a>\n",
    "---"
   ]
  },
  {
   "cell_type": "markdown",
   "metadata": {},
   "source": [
    "__Optional lesson__\n",
    "- Use asserts to test validity of function inputs and outputs\n"
   ]
  },
  {
   "cell_type": "markdown",
   "metadata": {
    "collapsed": true
   },
   "source": [
    "### Python Testing"
   ]
  },
  {
   "cell_type": "code",
   "execution_count": null,
   "metadata": {
    "collapsed": true
   },
   "outputs": [],
   "source": [
    "import pytest"
   ]
  },
  {
   "cell_type": "code",
   "execution_count": null,
   "metadata": {},
   "outputs": [],
   "source": [
    "# Check to see if pytest is installed:\n",
    "pytest.__version__"
   ]
  },
  {
   "cell_type": "code",
   "execution_count": null,
   "metadata": {
    "collapsed": true
   },
   "outputs": [],
   "source": [
    "# content of test_sample.py\n",
    "def func(x):\n",
    "    return x + 1\n",
    "\n",
    "def test_answer():\n",
    "    assert func(3) == 5"
   ]
  },
  {
   "cell_type": "code",
   "execution_count": null,
   "metadata": {},
   "outputs": [],
   "source": [
    "!pytest"
   ]
  },
  {
   "cell_type": "code",
   "execution_count": null,
   "metadata": {},
   "outputs": [],
   "source": [
    "pytest.assert?"
   ]
  },
  {
   "cell_type": "markdown",
   "metadata": {},
   "source": [
    "## Python 3 Syntax"
   ]
  },
  {
   "cell_type": "markdown",
   "metadata": {
    "collapsed": true
   },
   "source": [
    "A nice, very brief intro to the syntax of the Python 3 programming language can be viewed here:\n",
    "    \n",
    "https://learnxinyminutes.com/docs/python3/"
   ]
  }
 ],
 "metadata": {
  "anaconda-cloud": {},
  "kernelspec": {
   "display_name": "Python 3",
   "language": "python",
   "name": "python3"
  },
  "language_info": {
   "codemirror_mode": {
    "name": "ipython",
    "version": 3
   },
   "file_extension": ".py",
   "mimetype": "text/x-python",
   "name": "python",
   "nbconvert_exporter": "python",
   "pygments_lexer": "ipython3",
   "version": "3.5.2"
  }
 },
 "nbformat": 4,
 "nbformat_minor": 1
}
